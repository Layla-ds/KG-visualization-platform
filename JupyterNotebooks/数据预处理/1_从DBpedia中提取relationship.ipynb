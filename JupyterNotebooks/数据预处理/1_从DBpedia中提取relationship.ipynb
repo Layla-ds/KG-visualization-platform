{
 "cells": [
  {
   "cell_type": "code",
   "execution_count": 1,
   "metadata": {},
   "outputs": [],
   "source": [
    "import re\n",
    "import numpy as np\n",
    "import pandas as pd\n",
    "from unidecode import unidecode"
   ]
  },
  {
   "cell_type": "markdown",
   "metadata": {},
   "source": [
    "## Person Data"
   ]
  },
  {
   "cell_type": "code",
   "execution_count": 2,
   "metadata": {},
   "outputs": [
    {
     "data": {
      "text/plain": [
       "6067248"
      ]
     },
     "execution_count": 2,
     "metadata": {},
     "output_type": "execute_result"
    }
   ],
   "source": [
    "# 从txt中获取数据并查看长度\n",
    "person = []\n",
    "for line in open('persondata_en.txt', \"r\",encoding='UTF-8'):\n",
    "    person.append(line)\n",
    "len(person)"
   ]
  },
  {
   "cell_type": "code",
   "execution_count": 3,
   "metadata": {},
   "outputs": [],
   "source": [
    "# 删除首尾行\n",
    "person_data = person[1:6067247]"
   ]
  },
  {
   "cell_type": "code",
   "execution_count": 4,
   "metadata": {},
   "outputs": [],
   "source": [
    "relationship1 = []\n",
    "for j in person_data:\n",
    "    # 不提取type行\n",
    "    if 'type' in j:\n",
    "        continue\n",
    "    # change foreign characters to english letters\n",
    "    j = unidecode(j)\n",
    "    # find all of websites and extract the first three\n",
    "    last = re.findall('<http://.*?> ',j)\n",
    "    j = j.replace(last[-1],'')\n",
    "    # use regular expression to extract all entity names\n",
    "    if '> \\\"' not in j:\n",
    "        result = re.findall('/[^/#]*>',j)\n",
    "        relationship1.append(result)"
   ]
  },
  {
   "cell_type": "code",
   "execution_count": 5,
   "metadata": {},
   "outputs": [
    {
     "name": "stdout",
     "output_type": "stream",
     "text": [
      "826766\n"
     ]
    },
    {
     "data": {
      "text/html": [
       "<div>\n",
       "<style scoped>\n",
       "    .dataframe tbody tr th:only-of-type {\n",
       "        vertical-align: middle;\n",
       "    }\n",
       "\n",
       "    .dataframe tbody tr th {\n",
       "        vertical-align: top;\n",
       "    }\n",
       "\n",
       "    .dataframe thead th {\n",
       "        text-align: right;\n",
       "    }\n",
       "</style>\n",
       "<table border=\"1\" class=\"dataframe\">\n",
       "  <thead>\n",
       "    <tr style=\"text-align: right;\">\n",
       "      <th></th>\n",
       "      <th>start_name</th>\n",
       "      <th>relationship</th>\n",
       "      <th>end_name</th>\n",
       "    </tr>\n",
       "  </thead>\n",
       "  <tbody>\n",
       "    <tr>\n",
       "      <th>0</th>\n",
       "      <td>/Ibrahim_Pasha_of_Egypt&gt;</td>\n",
       "      <td>/birthPlace&gt;</td>\n",
       "      <td>/Drama,_Greece&gt;</td>\n",
       "    </tr>\n",
       "    <tr>\n",
       "      <th>1</th>\n",
       "      <td>/Ibrahim_Pasha_of_Egypt&gt;</td>\n",
       "      <td>/birthPlace&gt;</td>\n",
       "      <td>/Ottoman_Empire&gt;</td>\n",
       "    </tr>\n",
       "    <tr>\n",
       "      <th>2</th>\n",
       "      <td>/Ibrahim_Pasha_of_Egypt&gt;</td>\n",
       "      <td>/deathPlace&gt;</td>\n",
       "      <td>/Cairo&gt;</td>\n",
       "    </tr>\n",
       "    <tr>\n",
       "      <th>3</th>\n",
       "      <td>/Ibrahim_Pasha_of_Egypt&gt;</td>\n",
       "      <td>/deathPlace&gt;</td>\n",
       "      <td>/Egypt&gt;</td>\n",
       "    </tr>\n",
       "    <tr>\n",
       "      <th>4</th>\n",
       "      <td>/Abdul_Qadeer_Khan&gt;</td>\n",
       "      <td>/birthPlace&gt;</td>\n",
       "      <td>/Bhopal&gt;</td>\n",
       "    </tr>\n",
       "  </tbody>\n",
       "</table>\n",
       "</div>"
      ],
      "text/plain": [
       "                 start_name  relationship          end_name\n",
       "0  /Ibrahim_Pasha_of_Egypt>  /birthPlace>   /Drama,_Greece>\n",
       "1  /Ibrahim_Pasha_of_Egypt>  /birthPlace>  /Ottoman_Empire>\n",
       "2  /Ibrahim_Pasha_of_Egypt>  /deathPlace>           /Cairo>\n",
       "3  /Ibrahim_Pasha_of_Egypt>  /deathPlace>           /Egypt>\n",
       "4       /Abdul_Qadeer_Khan>  /birthPlace>          /Bhopal>"
      ]
     },
     "execution_count": 5,
     "metadata": {},
     "output_type": "execute_result"
    }
   ],
   "source": [
    "# relationship放入dataframe\n",
    "df2 = pd.DataFrame(relationship1, columns = ['start_name', 'relationship', 'end_name'])\n",
    "print(len(df2))\n",
    "df2.head()"
   ]
  },
  {
   "cell_type": "code",
   "execution_count": 6,
   "metadata": {},
   "outputs": [
    {
     "data": {
      "text/html": [
       "<div>\n",
       "<style scoped>\n",
       "    .dataframe tbody tr th:only-of-type {\n",
       "        vertical-align: middle;\n",
       "    }\n",
       "\n",
       "    .dataframe tbody tr th {\n",
       "        vertical-align: top;\n",
       "    }\n",
       "\n",
       "    .dataframe thead th {\n",
       "        text-align: right;\n",
       "    }\n",
       "</style>\n",
       "<table border=\"1\" class=\"dataframe\">\n",
       "  <thead>\n",
       "    <tr style=\"text-align: right;\">\n",
       "      <th></th>\n",
       "      <th>start_name</th>\n",
       "      <th>relationship</th>\n",
       "      <th>end_name</th>\n",
       "    </tr>\n",
       "  </thead>\n",
       "  <tbody>\n",
       "    <tr>\n",
       "      <th>0</th>\n",
       "      <td>Ibrahim Pasha of Egypt</td>\n",
       "      <td>birthPlace</td>\n",
       "      <td>Drama, Greece</td>\n",
       "    </tr>\n",
       "    <tr>\n",
       "      <th>1</th>\n",
       "      <td>Ibrahim Pasha of Egypt</td>\n",
       "      <td>birthPlace</td>\n",
       "      <td>Ottoman Empire</td>\n",
       "    </tr>\n",
       "    <tr>\n",
       "      <th>2</th>\n",
       "      <td>Ibrahim Pasha of Egypt</td>\n",
       "      <td>deathPlace</td>\n",
       "      <td>Cairo</td>\n",
       "    </tr>\n",
       "    <tr>\n",
       "      <th>3</th>\n",
       "      <td>Ibrahim Pasha of Egypt</td>\n",
       "      <td>deathPlace</td>\n",
       "      <td>Egypt</td>\n",
       "    </tr>\n",
       "    <tr>\n",
       "      <th>4</th>\n",
       "      <td>Abdul Qadeer Khan</td>\n",
       "      <td>birthPlace</td>\n",
       "      <td>Bhopal</td>\n",
       "    </tr>\n",
       "  </tbody>\n",
       "</table>\n",
       "</div>"
      ],
      "text/plain": [
       "               start_name relationship        end_name\n",
       "0  Ibrahim Pasha of Egypt   birthPlace   Drama, Greece\n",
       "1  Ibrahim Pasha of Egypt   birthPlace  Ottoman Empire\n",
       "2  Ibrahim Pasha of Egypt   deathPlace           Cairo\n",
       "3  Ibrahim Pasha of Egypt   deathPlace           Egypt\n",
       "4       Abdul Qadeer Khan   birthPlace          Bhopal"
      ]
     },
     "execution_count": 6,
     "metadata": {},
     "output_type": "execute_result"
    }
   ],
   "source": [
    "# 删除多余的符号\n",
    "df2['start_name'] = df2['start_name'].str.replace('[/>]+', '')\n",
    "df2['start_name'] = df2['start_name'].str.replace('_+', ' ')\n",
    "\n",
    "df2['relationship'] = df2['relationship'].str.replace('[/>#]+', '')\n",
    "\n",
    "df2['end_name'] = df2['end_name'].str.replace('[/>\\\"\\\"]+', '')\n",
    "df2['end_name'] = df2['end_name'].str.replace('_+', ' ')\n",
    "df2.head()"
   ]
  },
  {
   "cell_type": "code",
   "execution_count": 7,
   "metadata": {},
   "outputs": [
    {
     "data": {
      "text/plain": [
       "[575016, 629331, 709977]"
      ]
     },
     "execution_count": 7,
     "metadata": {},
     "output_type": "execute_result"
    }
   ],
   "source": [
    "#查看有哪些end_name提取的数据是空的或出错的\n",
    "def find_all_index(arr,item):\n",
    "    return [i for i,a in enumerate(arr) if a==item]\n",
    "find_all_index(df2['end_name'], None)"
   ]
  },
  {
   "cell_type": "code",
   "execution_count": 8,
   "metadata": {},
   "outputs": [
    {
     "name": "stdout",
     "output_type": "stream",
     "text": [
      "826766\n",
      "826763\n"
     ]
    }
   ],
   "source": [
    "print(len(df2))\n",
    "df2 = df2.dropna()\n",
    "print(len(df2))"
   ]
  },
  {
   "cell_type": "code",
   "execution_count": null,
   "metadata": {},
   "outputs": [],
   "source": []
  },
  {
   "cell_type": "markdown",
   "metadata": {},
   "source": [
    "## Mapping Based Object"
   ]
  },
  {
   "cell_type": "code",
   "execution_count": 9,
   "metadata": {},
   "outputs": [
    {
     "data": {
      "text/plain": [
       "18295012"
      ]
     },
     "execution_count": 9,
     "metadata": {},
     "output_type": "execute_result"
    }
   ],
   "source": [
    "# 从txt中获取数据并查看长度\n",
    "mapping = []\n",
    "for line in open('mappingbased_objects_en.txt', \"r\",encoding='UTF-8'):\n",
    "    mapping.append(line)\n",
    "len(mapping)"
   ]
  },
  {
   "cell_type": "code",
   "execution_count": 10,
   "metadata": {},
   "outputs": [],
   "source": [
    "# 删除第一行和最后一行\n",
    "mapping_data = mapping[1:18295011]"
   ]
  },
  {
   "cell_type": "code",
   "execution_count": 47,
   "metadata": {},
   "outputs": [],
   "source": [
    "# 删除最后一列网址，正则匹配三元组\n",
    "relationship2 = []\n",
    "for j in mapping_data:\n",
    "    if 'seeAlso' in j:\n",
    "        continue\n",
    "    if 'differentFrom' in j:\n",
    "        continue\n",
    "    j = unidecode(j)\n",
    "    last = re.findall('<http://.*?> ',j)\n",
    "    j = j.replace(last[-1],'')\n",
    "    result = re.findall('/[^/]*>',j)\n",
    "    relationship2.append(result)"
   ]
  },
  {
   "cell_type": "code",
   "execution_count": 48,
   "metadata": {},
   "outputs": [
    {
     "data": {
      "text/html": [
       "<div>\n",
       "<style scoped>\n",
       "    .dataframe tbody tr th:only-of-type {\n",
       "        vertical-align: middle;\n",
       "    }\n",
       "\n",
       "    .dataframe tbody tr th {\n",
       "        vertical-align: top;\n",
       "    }\n",
       "\n",
       "    .dataframe thead th {\n",
       "        text-align: right;\n",
       "    }\n",
       "</style>\n",
       "<table border=\"1\" class=\"dataframe\">\n",
       "  <thead>\n",
       "    <tr style=\"text-align: right;\">\n",
       "      <th></th>\n",
       "      <th>start_name</th>\n",
       "      <th>relationship</th>\n",
       "      <th>end_name</th>\n",
       "      <th>others</th>\n",
       "    </tr>\n",
       "  </thead>\n",
       "  <tbody>\n",
       "    <tr>\n",
       "      <th>0</th>\n",
       "      <td>/Actrius&gt;</td>\n",
       "      <td>/director&gt;</td>\n",
       "      <td>/Ventura_Pons&gt;</td>\n",
       "      <td>None</td>\n",
       "    </tr>\n",
       "    <tr>\n",
       "      <th>1</th>\n",
       "      <td>/Actrius&gt;</td>\n",
       "      <td>/producer&gt;</td>\n",
       "      <td>/Ventura_Pons&gt;</td>\n",
       "      <td>None</td>\n",
       "    </tr>\n",
       "    <tr>\n",
       "      <th>2</th>\n",
       "      <td>/Actrius&gt;</td>\n",
       "      <td>/writer&gt;</td>\n",
       "      <td>/Josep_Maria_Benet_i_Jornet&gt;</td>\n",
       "      <td>None</td>\n",
       "    </tr>\n",
       "    <tr>\n",
       "      <th>3</th>\n",
       "      <td>/Actrius&gt;</td>\n",
       "      <td>/distributor&gt;</td>\n",
       "      <td>/Walt_Disney_Studios_Motion_Pictures&gt;</td>\n",
       "      <td>None</td>\n",
       "    </tr>\n",
       "    <tr>\n",
       "      <th>4</th>\n",
       "      <td>/Actrius&gt;</td>\n",
       "      <td>/country&gt;</td>\n",
       "      <td>/Spain&gt;</td>\n",
       "      <td>None</td>\n",
       "    </tr>\n",
       "    <tr>\n",
       "      <th>...</th>\n",
       "      <td>...</td>\n",
       "      <td>...</td>\n",
       "      <td>...</td>\n",
       "      <td>...</td>\n",
       "    </tr>\n",
       "    <tr>\n",
       "      <th>18077913</th>\n",
       "      <td>/Miles_Byass&gt;</td>\n",
       "      <td>/team&gt;</td>\n",
       "      <td>/Seattle_Sounders_FC_U-23&gt;</td>\n",
       "      <td>None</td>\n",
       "    </tr>\n",
       "    <tr>\n",
       "      <th>18077914</th>\n",
       "      <td>/Miles_Byass&gt;</td>\n",
       "      <td>/team&gt;</td>\n",
       "      <td>/FF_Jaro&gt;</td>\n",
       "      <td>None</td>\n",
       "    </tr>\n",
       "    <tr>\n",
       "      <th>18077915</th>\n",
       "      <td>/Miles_Byass&gt;</td>\n",
       "      <td>/team&gt;</td>\n",
       "      <td>/MYPA&gt;</td>\n",
       "      <td>None</td>\n",
       "    </tr>\n",
       "    <tr>\n",
       "      <th>18077916</th>\n",
       "      <td>/Miles_Byass&gt;</td>\n",
       "      <td>/team&gt;</td>\n",
       "      <td>/JIPPO&gt;</td>\n",
       "      <td>None</td>\n",
       "    </tr>\n",
       "    <tr>\n",
       "      <th>18077917</th>\n",
       "      <td>/Miles_Byass&gt;</td>\n",
       "      <td>/team&gt;</td>\n",
       "      <td>/United_States_men's_national_under-18_soccer_...</td>\n",
       "      <td>None</td>\n",
       "    </tr>\n",
       "  </tbody>\n",
       "</table>\n",
       "<p>18077918 rows × 4 columns</p>\n",
       "</div>"
      ],
      "text/plain": [
       "             start_name   relationship  \\\n",
       "0             /Actrius>     /director>   \n",
       "1             /Actrius>     /producer>   \n",
       "2             /Actrius>       /writer>   \n",
       "3             /Actrius>  /distributor>   \n",
       "4             /Actrius>      /country>   \n",
       "...                 ...            ...   \n",
       "18077913  /Miles_Byass>         /team>   \n",
       "18077914  /Miles_Byass>         /team>   \n",
       "18077915  /Miles_Byass>         /team>   \n",
       "18077916  /Miles_Byass>         /team>   \n",
       "18077917  /Miles_Byass>         /team>   \n",
       "\n",
       "                                                   end_name others  \n",
       "0                                            /Ventura_Pons>   None  \n",
       "1                                            /Ventura_Pons>   None  \n",
       "2                              /Josep_Maria_Benet_i_Jornet>   None  \n",
       "3                     /Walt_Disney_Studios_Motion_Pictures>   None  \n",
       "4                                                   /Spain>   None  \n",
       "...                                                     ...    ...  \n",
       "18077913                         /Seattle_Sounders_FC_U-23>   None  \n",
       "18077914                                          /FF_Jaro>   None  \n",
       "18077915                                             /MYPA>   None  \n",
       "18077916                                            /JIPPO>   None  \n",
       "18077917  /United_States_men's_national_under-18_soccer_...   None  \n",
       "\n",
       "[18077918 rows x 4 columns]"
      ]
     },
     "execution_count": 48,
     "metadata": {},
     "output_type": "execute_result"
    }
   ],
   "source": [
    "# 放入dataframe\n",
    "df3 = pd.DataFrame(relationship2, columns = ['start_name', 'relationship', 'end_name','others'])\n",
    "df3"
   ]
  },
  {
   "cell_type": "code",
   "execution_count": 49,
   "metadata": {},
   "outputs": [
    {
     "name": "stdout",
     "output_type": "stream",
     "text": [
      "18077918\n"
     ]
    },
    {
     "data": {
      "text/html": [
       "<div>\n",
       "<style scoped>\n",
       "    .dataframe tbody tr th:only-of-type {\n",
       "        vertical-align: middle;\n",
       "    }\n",
       "\n",
       "    .dataframe tbody tr th {\n",
       "        vertical-align: top;\n",
       "    }\n",
       "\n",
       "    .dataframe thead th {\n",
       "        text-align: right;\n",
       "    }\n",
       "</style>\n",
       "<table border=\"1\" class=\"dataframe\">\n",
       "  <thead>\n",
       "    <tr style=\"text-align: right;\">\n",
       "      <th></th>\n",
       "      <th>start_name</th>\n",
       "      <th>relationship</th>\n",
       "      <th>end_name</th>\n",
       "      <th>others</th>\n",
       "    </tr>\n",
       "  </thead>\n",
       "  <tbody>\n",
       "    <tr>\n",
       "      <th>0</th>\n",
       "      <td>Actrius</td>\n",
       "      <td>director</td>\n",
       "      <td>Ventura Pons</td>\n",
       "      <td>None</td>\n",
       "    </tr>\n",
       "    <tr>\n",
       "      <th>1</th>\n",
       "      <td>Actrius</td>\n",
       "      <td>producer</td>\n",
       "      <td>Ventura Pons</td>\n",
       "      <td>None</td>\n",
       "    </tr>\n",
       "    <tr>\n",
       "      <th>2</th>\n",
       "      <td>Actrius</td>\n",
       "      <td>writer</td>\n",
       "      <td>Josep Maria Benet i Jornet</td>\n",
       "      <td>None</td>\n",
       "    </tr>\n",
       "    <tr>\n",
       "      <th>3</th>\n",
       "      <td>Actrius</td>\n",
       "      <td>distributor</td>\n",
       "      <td>Walt Disney Studios Motion Pictures</td>\n",
       "      <td>None</td>\n",
       "    </tr>\n",
       "    <tr>\n",
       "      <th>4</th>\n",
       "      <td>Actrius</td>\n",
       "      <td>country</td>\n",
       "      <td>Spain</td>\n",
       "      <td>None</td>\n",
       "    </tr>\n",
       "  </tbody>\n",
       "</table>\n",
       "</div>"
      ],
      "text/plain": [
       "  start_name relationship                             end_name others\n",
       "0    Actrius     director                         Ventura Pons   None\n",
       "1    Actrius     producer                         Ventura Pons   None\n",
       "2    Actrius       writer           Josep Maria Benet i Jornet   None\n",
       "3    Actrius  distributor  Walt Disney Studios Motion Pictures   None\n",
       "4    Actrius      country                                Spain   None"
      ]
     },
     "execution_count": 49,
     "metadata": {},
     "output_type": "execute_result"
    }
   ],
   "source": [
    "# 删除多余的符号\n",
    "df3['start_name'] = df3['start_name'].str.replace('[/>]+', '')\n",
    "df3['start_name'] = df3['start_name'].str.replace('_+', ' ')\n",
    "\n",
    "df3['end_name'] = df3['end_name'].str.replace('[/>]+', '')\n",
    "df3['end_name'] = df3['end_name'].str.replace('_+', ' ')\n",
    "\n",
    "df3['relationship'] = df3['relationship'].str.replace('[/>]+', '')\n",
    "df3['relationship'] = df3['relationship'].str.replace('_+', ' ')\n",
    "\n",
    "df3['others'] = df3['others'].str.replace('[/>\\\"\\\"]+', '')\n",
    "print(len(df3))\n",
    "df3.head()"
   ]
  },
  {
   "cell_type": "code",
   "execution_count": 50,
   "metadata": {},
   "outputs": [
    {
     "data": {
      "text/plain": [
       "{None, '_S__1'}"
      ]
     },
     "execution_count": 50,
     "metadata": {},
     "output_type": "execute_result"
    }
   ],
   "source": [
    "set(df3['others'])"
   ]
  },
  {
   "cell_type": "code",
   "execution_count": 51,
   "metadata": {},
   "outputs": [
    {
     "name": "stdout",
     "output_type": "stream",
     "text": [
      "18077918\n"
     ]
    }
   ],
   "source": [
    "#分到others里的只有两行，是多余的网址，可以直接删除，所以drop掉others\n",
    "df3 = df3.drop('others', axis = 1)\n",
    "print(len(df3))"
   ]
  },
  {
   "cell_type": "code",
   "execution_count": 52,
   "metadata": {},
   "outputs": [
    {
     "data": {
      "text/plain": [
       "[]"
      ]
     },
     "execution_count": 52,
     "metadata": {},
     "output_type": "execute_result"
    }
   ],
   "source": [
    "# relationship列没有空的\n",
    "def find_all_index(arr,item):\n",
    "    return [i for i,a in enumerate(arr) if a==item]\n",
    "find_all_index(df3['relationship'], None)"
   ]
  },
  {
   "cell_type": "code",
   "execution_count": 53,
   "metadata": {},
   "outputs": [
    {
     "data": {
      "text/plain": [
       "[188352, 2725964, 3290850, 8642888, 16520384]"
      ]
     },
     "execution_count": 53,
     "metadata": {},
     "output_type": "execute_result"
    }
   ],
   "source": [
    "# 查找end_name列空的原因\n",
    "find_all_index(df3['end_name'], None)"
   ]
  },
  {
   "cell_type": "code",
   "execution_count": 54,
   "metadata": {},
   "outputs": [
    {
     "data": {
      "text/plain": [
       "['<http://dbpedia.org/resource/Arne_Skaug> <http://www.w3.org/2002/07/owl#differentFrom> <http://dbpedia.org/resource/Arne_Skauge> <http://en.wikipedia.org/wiki/Arne_Skaug?oldid=707169133#absolute-line=1&template=Distinguish&property=1&split=1&wikiTextSize=11&plainTextSize=11&valueSize=11> .\\n']"
      ]
     },
     "execution_count": 54,
     "metadata": {},
     "output_type": "execute_result"
    }
   ],
   "source": [
    "# 原因是第三列的网址是一个没有/的网址，无法提取\n",
    "mapping_data[ 3313229:  3313230]"
   ]
  },
  {
   "cell_type": "code",
   "execution_count": 55,
   "metadata": {},
   "outputs": [
    {
     "name": "stdout",
     "output_type": "stream",
     "text": [
      "18077913\n"
     ]
    }
   ],
   "source": [
    "# 删除那几个空值\n",
    "df3 = df3.dropna()\n",
    "print(len(df3))"
   ]
  },
  {
   "cell_type": "code",
   "execution_count": null,
   "metadata": {},
   "outputs": [],
   "source": []
  },
  {
   "cell_type": "markdown",
   "metadata": {},
   "source": [
    "## Ontology"
   ]
  },
  {
   "cell_type": "code",
   "execution_count": 23,
   "metadata": {},
   "outputs": [
    {
     "data": {
      "text/plain": [
       "30793"
      ]
     },
     "execution_count": 23,
     "metadata": {},
     "output_type": "execute_result"
    }
   ],
   "source": [
    "# 从txt中获取数据并查看长度\n",
    "onto = []\n",
    "for line in open('dbpedia_2016-04.txt', \"r\",encoding='UTF-8'):\n",
    "    onto.append(line)\n",
    "len(onto)"
   ]
  },
  {
   "cell_type": "code",
   "execution_count": 24,
   "metadata": {},
   "outputs": [],
   "source": [
    "relationship4 = []\n",
    "for j in onto:\n",
    "    j = unidecode(j)\n",
    "    if '#type>' in j or '#subClassOf>' in j:\n",
    "        result1 = re.search('/[^/#]*>',j)\n",
    "        start_name = []\n",
    "        if result1:\n",
    "            start_name.append(result1.group(0))\n",
    "        else:\n",
    "            continue\n",
    "        result2 = re.findall('[/|#]+[^/#]+>',j)\n",
    "        result2 = result2[1:]\n",
    "        relationship4.append(start_name+result2)"
   ]
  },
  {
   "cell_type": "code",
   "execution_count": 25,
   "metadata": {},
   "outputs": [],
   "source": [
    "df5 = pd.DataFrame(relationship4, columns = ['start_name','relationship','end_name'])"
   ]
  },
  {
   "cell_type": "code",
   "execution_count": 26,
   "metadata": {},
   "outputs": [
    {
     "data": {
      "text/html": [
       "<div>\n",
       "<style scoped>\n",
       "    .dataframe tbody tr th:only-of-type {\n",
       "        vertical-align: middle;\n",
       "    }\n",
       "\n",
       "    .dataframe tbody tr th {\n",
       "        vertical-align: top;\n",
       "    }\n",
       "\n",
       "    .dataframe thead th {\n",
       "        text-align: right;\n",
       "    }\n",
       "</style>\n",
       "<table border=\"1\" class=\"dataframe\">\n",
       "  <thead>\n",
       "    <tr style=\"text-align: right;\">\n",
       "      <th></th>\n",
       "      <th>start_name</th>\n",
       "      <th>relationship</th>\n",
       "      <th>end_name</th>\n",
       "    </tr>\n",
       "  </thead>\n",
       "  <tbody>\n",
       "    <tr>\n",
       "      <th>2</th>\n",
       "      <td>/BasketballLeague&gt;</td>\n",
       "      <td>#type&gt;</td>\n",
       "      <td>#Class&gt;</td>\n",
       "    </tr>\n",
       "    <tr>\n",
       "      <th>3</th>\n",
       "      <td>/BasketballLeague&gt;</td>\n",
       "      <td>#subClassOf&gt;</td>\n",
       "      <td>/SportsLeague&gt;</td>\n",
       "    </tr>\n",
       "    <tr>\n",
       "      <th>4</th>\n",
       "      <td>/NaturalEvent&gt;</td>\n",
       "      <td>#type&gt;</td>\n",
       "      <td>#Class&gt;</td>\n",
       "    </tr>\n",
       "    <tr>\n",
       "      <th>5</th>\n",
       "      <td>/NaturalEvent&gt;</td>\n",
       "      <td>#subClassOf&gt;</td>\n",
       "      <td>/Event&gt;</td>\n",
       "    </tr>\n",
       "    <tr>\n",
       "      <th>6</th>\n",
       "      <td>/Province&gt;</td>\n",
       "      <td>#type&gt;</td>\n",
       "      <td>#Class&gt;</td>\n",
       "    </tr>\n",
       "    <tr>\n",
       "      <th>...</th>\n",
       "      <td>...</td>\n",
       "      <td>...</td>\n",
       "      <td>...</td>\n",
       "    </tr>\n",
       "    <tr>\n",
       "      <th>7467</th>\n",
       "      <td>/areaOfCatchment&gt;</td>\n",
       "      <td>#type&gt;</td>\n",
       "      <td>#DatatypeProperty&gt;</td>\n",
       "    </tr>\n",
       "    <tr>\n",
       "      <th>7468</th>\n",
       "      <td>/dryCargo&gt;</td>\n",
       "      <td>#type&gt;</td>\n",
       "      <td>#DatatypeProperty&gt;</td>\n",
       "    </tr>\n",
       "    <tr>\n",
       "      <th>7469</th>\n",
       "      <td>/stationEvaDuration&gt;</td>\n",
       "      <td>#type&gt;</td>\n",
       "      <td>#DatatypeProperty&gt;</td>\n",
       "    </tr>\n",
       "    <tr>\n",
       "      <th>7470</th>\n",
       "      <td>/volume&gt;</td>\n",
       "      <td>#type&gt;</td>\n",
       "      <td>#DatatypeProperty&gt;</td>\n",
       "    </tr>\n",
       "    <tr>\n",
       "      <th>7471</th>\n",
       "      <td>/length&gt;</td>\n",
       "      <td>#type&gt;</td>\n",
       "      <td>#DatatypeProperty&gt;</td>\n",
       "    </tr>\n",
       "  </tbody>\n",
       "</table>\n",
       "<p>7470 rows × 3 columns</p>\n",
       "</div>"
      ],
      "text/plain": [
       "                start_name  relationship            end_name\n",
       "2       /BasketballLeague>        #type>             #Class>\n",
       "3       /BasketballLeague>  #subClassOf>      /SportsLeague>\n",
       "4           /NaturalEvent>        #type>             #Class>\n",
       "5           /NaturalEvent>  #subClassOf>             /Event>\n",
       "6               /Province>        #type>             #Class>\n",
       "...                    ...           ...                 ...\n",
       "7467     /areaOfCatchment>        #type>  #DatatypeProperty>\n",
       "7468            /dryCargo>        #type>  #DatatypeProperty>\n",
       "7469  /stationEvaDuration>        #type>  #DatatypeProperty>\n",
       "7470              /volume>        #type>  #DatatypeProperty>\n",
       "7471              /length>        #type>  #DatatypeProperty>\n",
       "\n",
       "[7470 rows x 3 columns]"
      ]
     },
     "execution_count": 26,
     "metadata": {},
     "output_type": "execute_result"
    }
   ],
   "source": [
    "df5 = df5[2:]\n",
    "df5"
   ]
  },
  {
   "cell_type": "code",
   "execution_count": 27,
   "metadata": {},
   "outputs": [
    {
     "name": "stdout",
     "output_type": "stream",
     "text": [
      "7470\n"
     ]
    },
    {
     "data": {
      "text/html": [
       "<div>\n",
       "<style scoped>\n",
       "    .dataframe tbody tr th:only-of-type {\n",
       "        vertical-align: middle;\n",
       "    }\n",
       "\n",
       "    .dataframe tbody tr th {\n",
       "        vertical-align: top;\n",
       "    }\n",
       "\n",
       "    .dataframe thead th {\n",
       "        text-align: right;\n",
       "    }\n",
       "</style>\n",
       "<table border=\"1\" class=\"dataframe\">\n",
       "  <thead>\n",
       "    <tr style=\"text-align: right;\">\n",
       "      <th></th>\n",
       "      <th>start_name</th>\n",
       "      <th>relationship</th>\n",
       "      <th>end_name</th>\n",
       "    </tr>\n",
       "  </thead>\n",
       "  <tbody>\n",
       "    <tr>\n",
       "      <th>2</th>\n",
       "      <td>BasketballLeague</td>\n",
       "      <td>type</td>\n",
       "      <td>Class</td>\n",
       "    </tr>\n",
       "    <tr>\n",
       "      <th>3</th>\n",
       "      <td>BasketballLeague</td>\n",
       "      <td>subClassOf</td>\n",
       "      <td>SportsLeague</td>\n",
       "    </tr>\n",
       "    <tr>\n",
       "      <th>4</th>\n",
       "      <td>NaturalEvent</td>\n",
       "      <td>type</td>\n",
       "      <td>Class</td>\n",
       "    </tr>\n",
       "    <tr>\n",
       "      <th>5</th>\n",
       "      <td>NaturalEvent</td>\n",
       "      <td>subClassOf</td>\n",
       "      <td>Event</td>\n",
       "    </tr>\n",
       "    <tr>\n",
       "      <th>6</th>\n",
       "      <td>Province</td>\n",
       "      <td>type</td>\n",
       "      <td>Class</td>\n",
       "    </tr>\n",
       "  </tbody>\n",
       "</table>\n",
       "</div>"
      ],
      "text/plain": [
       "         start_name relationship      end_name\n",
       "2  BasketballLeague         type         Class\n",
       "3  BasketballLeague   subClassOf  SportsLeague\n",
       "4      NaturalEvent         type         Class\n",
       "5      NaturalEvent   subClassOf         Event\n",
       "6          Province         type         Class"
      ]
     },
     "execution_count": 27,
     "metadata": {},
     "output_type": "execute_result"
    }
   ],
   "source": [
    "# 删除多余的符号\n",
    "df5['start_name'] = df5['start_name'].str.replace('[/>#]+', '')\n",
    "\n",
    "df5['end_name'] = df5['end_name'].str.replace('[/>#]+', '')\n",
    "\n",
    "df5['relationship'] = df5['relationship'].str.replace('[/>#]+', '')\n",
    "\n",
    "print(len(df5))\n",
    "df5.head()"
   ]
  },
  {
   "cell_type": "code",
   "execution_count": null,
   "metadata": {},
   "outputs": [],
   "source": []
  },
  {
   "cell_type": "markdown",
   "metadata": {},
   "source": [
    "## Instance_types"
   ]
  },
  {
   "cell_type": "code",
   "execution_count": 28,
   "metadata": {},
   "outputs": [
    {
     "data": {
      "text/plain": [
       "5214242"
      ]
     },
     "execution_count": 28,
     "metadata": {},
     "output_type": "execute_result"
    }
   ],
   "source": [
    "# 从txt中获取数据并查看长度\n",
    "types = []\n",
    "for line in open('instance_types_en.txt', \"r\",encoding='UTF-8'):\n",
    "    types.append(line)\n",
    "len(types)"
   ]
  },
  {
   "cell_type": "code",
   "execution_count": 29,
   "metadata": {},
   "outputs": [],
   "source": [
    "types = types[1:5214240]"
   ]
  },
  {
   "cell_type": "code",
   "execution_count": 30,
   "metadata": {},
   "outputs": [],
   "source": [
    "relationship5 = []\n",
    "for j in types:\n",
    "    j = unidecode(j)\n",
    "    # 找到所有网址，删除最后一个\n",
    "    last = re.findall('<http://.*?> ',j)\n",
    "    j = j.replace(last[-1],'')\n",
    "    result1 = re.search('/[^/]*>',j)\n",
    "    start_name = []\n",
    "    if result1:\n",
    "        start_name.append(result1.group(0))\n",
    "    else:\n",
    "        continue\n",
    "    result2 = re.findall('[/|#]+[^/#]+>',j)\n",
    "    result2 = result2[1:]\n",
    "    relationship5.append(start_name+result2)"
   ]
  },
  {
   "cell_type": "code",
   "execution_count": 31,
   "metadata": {},
   "outputs": [],
   "source": [
    "df6 = pd.DataFrame(relationship5, columns = ['start_name','relationship','end_name','others'])"
   ]
  },
  {
   "cell_type": "code",
   "execution_count": 32,
   "metadata": {},
   "outputs": [
    {
     "name": "stdout",
     "output_type": "stream",
     "text": [
      "5214239\n"
     ]
    },
    {
     "data": {
      "text/html": [
       "<div>\n",
       "<style scoped>\n",
       "    .dataframe tbody tr th:only-of-type {\n",
       "        vertical-align: middle;\n",
       "    }\n",
       "\n",
       "    .dataframe tbody tr th {\n",
       "        vertical-align: top;\n",
       "    }\n",
       "\n",
       "    .dataframe thead th {\n",
       "        text-align: right;\n",
       "    }\n",
       "</style>\n",
       "<table border=\"1\" class=\"dataframe\">\n",
       "  <thead>\n",
       "    <tr style=\"text-align: right;\">\n",
       "      <th></th>\n",
       "      <th>start_name</th>\n",
       "      <th>relationship</th>\n",
       "      <th>end_name</th>\n",
       "      <th>others</th>\n",
       "    </tr>\n",
       "  </thead>\n",
       "  <tbody>\n",
       "    <tr>\n",
       "      <th>0</th>\n",
       "      <td>Achilles</td>\n",
       "      <td>type</td>\n",
       "      <td>Thing</td>\n",
       "      <td>None</td>\n",
       "    </tr>\n",
       "    <tr>\n",
       "      <th>1</th>\n",
       "      <td>An American in Paris</td>\n",
       "      <td>type</td>\n",
       "      <td>Thing</td>\n",
       "      <td>None</td>\n",
       "    </tr>\n",
       "    <tr>\n",
       "      <th>2</th>\n",
       "      <td>Actrius</td>\n",
       "      <td>type</td>\n",
       "      <td>Film</td>\n",
       "      <td>None</td>\n",
       "    </tr>\n",
       "    <tr>\n",
       "      <th>3</th>\n",
       "      <td>Animalia (book)</td>\n",
       "      <td>type</td>\n",
       "      <td>Book</td>\n",
       "      <td>None</td>\n",
       "    </tr>\n",
       "    <tr>\n",
       "      <th>4</th>\n",
       "      <td>Agricultural science</td>\n",
       "      <td>type</td>\n",
       "      <td>Thing</td>\n",
       "      <td>None</td>\n",
       "    </tr>\n",
       "  </tbody>\n",
       "</table>\n",
       "</div>"
      ],
      "text/plain": [
       "             start_name relationship end_name others\n",
       "0              Achilles         type    Thing   None\n",
       "1  An American in Paris         type    Thing   None\n",
       "2               Actrius         type     Film   None\n",
       "3       Animalia (book)         type     Book   None\n",
       "4  Agricultural science         type    Thing   None"
      ]
     },
     "execution_count": 32,
     "metadata": {},
     "output_type": "execute_result"
    }
   ],
   "source": [
    "# 删除多余的符号\n",
    "df6['start_name'] = df6['start_name'].str.replace('[/>#]+', '')\n",
    "df6['start_name'] = df6['start_name'].str.replace('_+', ' ')\n",
    "\n",
    "df6['end_name'] = df6['end_name'].str.replace('[/>#]+', '')\n",
    "\n",
    "df6['relationship'] = df6['relationship'].str.replace('[/>#]+', '')\n",
    "\n",
    "print(len(df6))\n",
    "df6.head()"
   ]
  },
  {
   "cell_type": "code",
   "execution_count": 33,
   "metadata": {},
   "outputs": [
    {
     "data": {
      "text/html": [
       "<div>\n",
       "<style scoped>\n",
       "    .dataframe tbody tr th:only-of-type {\n",
       "        vertical-align: middle;\n",
       "    }\n",
       "\n",
       "    .dataframe tbody tr th {\n",
       "        vertical-align: top;\n",
       "    }\n",
       "\n",
       "    .dataframe thead th {\n",
       "        text-align: right;\n",
       "    }\n",
       "</style>\n",
       "<table border=\"1\" class=\"dataframe\">\n",
       "  <thead>\n",
       "    <tr style=\"text-align: right;\">\n",
       "      <th></th>\n",
       "      <th>start_name</th>\n",
       "      <th>relationship</th>\n",
       "      <th>end_name</th>\n",
       "    </tr>\n",
       "  </thead>\n",
       "  <tbody>\n",
       "    <tr>\n",
       "      <th>0</th>\n",
       "      <td>Achilles</td>\n",
       "      <td>type</td>\n",
       "      <td>Thing</td>\n",
       "    </tr>\n",
       "    <tr>\n",
       "      <th>1</th>\n",
       "      <td>An American in Paris</td>\n",
       "      <td>type</td>\n",
       "      <td>Thing</td>\n",
       "    </tr>\n",
       "    <tr>\n",
       "      <th>2</th>\n",
       "      <td>Actrius</td>\n",
       "      <td>type</td>\n",
       "      <td>Film</td>\n",
       "    </tr>\n",
       "    <tr>\n",
       "      <th>3</th>\n",
       "      <td>Animalia (book)</td>\n",
       "      <td>type</td>\n",
       "      <td>Book</td>\n",
       "    </tr>\n",
       "    <tr>\n",
       "      <th>4</th>\n",
       "      <td>Agricultural science</td>\n",
       "      <td>type</td>\n",
       "      <td>Thing</td>\n",
       "    </tr>\n",
       "  </tbody>\n",
       "</table>\n",
       "</div>"
      ],
      "text/plain": [
       "             start_name relationship end_name\n",
       "0              Achilles         type    Thing\n",
       "1  An American in Paris         type    Thing\n",
       "2               Actrius         type     Film\n",
       "3       Animalia (book)         type     Book\n",
       "4  Agricultural science         type    Thing"
      ]
     },
     "execution_count": 33,
     "metadata": {},
     "output_type": "execute_result"
    }
   ],
   "source": [
    "df6 = df6.drop('others', axis = 1)\n",
    "df6.head()"
   ]
  },
  {
   "cell_type": "code",
   "execution_count": null,
   "metadata": {},
   "outputs": [],
   "source": []
  },
  {
   "cell_type": "markdown",
   "metadata": {},
   "source": [
    "## Combination"
   ]
  },
  {
   "cell_type": "code",
   "execution_count": 34,
   "metadata": {},
   "outputs": [
    {
     "name": "stdout",
     "output_type": "stream",
     "text": [
      "826763\n"
     ]
    },
    {
     "data": {
      "text/html": [
       "<div>\n",
       "<style scoped>\n",
       "    .dataframe tbody tr th:only-of-type {\n",
       "        vertical-align: middle;\n",
       "    }\n",
       "\n",
       "    .dataframe tbody tr th {\n",
       "        vertical-align: top;\n",
       "    }\n",
       "\n",
       "    .dataframe thead th {\n",
       "        text-align: right;\n",
       "    }\n",
       "</style>\n",
       "<table border=\"1\" class=\"dataframe\">\n",
       "  <thead>\n",
       "    <tr style=\"text-align: right;\">\n",
       "      <th></th>\n",
       "      <th>start_name</th>\n",
       "      <th>relationship</th>\n",
       "      <th>end_name</th>\n",
       "    </tr>\n",
       "  </thead>\n",
       "  <tbody>\n",
       "    <tr>\n",
       "      <th>0</th>\n",
       "      <td>Ibrahim Pasha of Egypt</td>\n",
       "      <td>birthPlace</td>\n",
       "      <td>Drama, Greece</td>\n",
       "    </tr>\n",
       "    <tr>\n",
       "      <th>1</th>\n",
       "      <td>Ibrahim Pasha of Egypt</td>\n",
       "      <td>birthPlace</td>\n",
       "      <td>Ottoman Empire</td>\n",
       "    </tr>\n",
       "    <tr>\n",
       "      <th>2</th>\n",
       "      <td>Ibrahim Pasha of Egypt</td>\n",
       "      <td>deathPlace</td>\n",
       "      <td>Cairo</td>\n",
       "    </tr>\n",
       "    <tr>\n",
       "      <th>3</th>\n",
       "      <td>Ibrahim Pasha of Egypt</td>\n",
       "      <td>deathPlace</td>\n",
       "      <td>Egypt</td>\n",
       "    </tr>\n",
       "    <tr>\n",
       "      <th>4</th>\n",
       "      <td>Abdul Qadeer Khan</td>\n",
       "      <td>birthPlace</td>\n",
       "      <td>Bhopal</td>\n",
       "    </tr>\n",
       "  </tbody>\n",
       "</table>\n",
       "</div>"
      ],
      "text/plain": [
       "               start_name relationship        end_name\n",
       "0  Ibrahim Pasha of Egypt   birthPlace   Drama, Greece\n",
       "1  Ibrahim Pasha of Egypt   birthPlace  Ottoman Empire\n",
       "2  Ibrahim Pasha of Egypt   deathPlace           Cairo\n",
       "3  Ibrahim Pasha of Egypt   deathPlace           Egypt\n",
       "4       Abdul Qadeer Khan   birthPlace          Bhopal"
      ]
     },
     "execution_count": 34,
     "metadata": {},
     "output_type": "execute_result"
    }
   ],
   "source": [
    "print(len(df2))\n",
    "df2.head()"
   ]
  },
  {
   "cell_type": "code",
   "execution_count": 56,
   "metadata": {},
   "outputs": [
    {
     "name": "stdout",
     "output_type": "stream",
     "text": [
      "18077913\n"
     ]
    },
    {
     "data": {
      "text/html": [
       "<div>\n",
       "<style scoped>\n",
       "    .dataframe tbody tr th:only-of-type {\n",
       "        vertical-align: middle;\n",
       "    }\n",
       "\n",
       "    .dataframe tbody tr th {\n",
       "        vertical-align: top;\n",
       "    }\n",
       "\n",
       "    .dataframe thead th {\n",
       "        text-align: right;\n",
       "    }\n",
       "</style>\n",
       "<table border=\"1\" class=\"dataframe\">\n",
       "  <thead>\n",
       "    <tr style=\"text-align: right;\">\n",
       "      <th></th>\n",
       "      <th>start_name</th>\n",
       "      <th>relationship</th>\n",
       "      <th>end_name</th>\n",
       "    </tr>\n",
       "  </thead>\n",
       "  <tbody>\n",
       "    <tr>\n",
       "      <th>0</th>\n",
       "      <td>Actrius</td>\n",
       "      <td>director</td>\n",
       "      <td>Ventura Pons</td>\n",
       "    </tr>\n",
       "    <tr>\n",
       "      <th>1</th>\n",
       "      <td>Actrius</td>\n",
       "      <td>producer</td>\n",
       "      <td>Ventura Pons</td>\n",
       "    </tr>\n",
       "    <tr>\n",
       "      <th>2</th>\n",
       "      <td>Actrius</td>\n",
       "      <td>writer</td>\n",
       "      <td>Josep Maria Benet i Jornet</td>\n",
       "    </tr>\n",
       "    <tr>\n",
       "      <th>3</th>\n",
       "      <td>Actrius</td>\n",
       "      <td>distributor</td>\n",
       "      <td>Walt Disney Studios Motion Pictures</td>\n",
       "    </tr>\n",
       "    <tr>\n",
       "      <th>4</th>\n",
       "      <td>Actrius</td>\n",
       "      <td>country</td>\n",
       "      <td>Spain</td>\n",
       "    </tr>\n",
       "  </tbody>\n",
       "</table>\n",
       "</div>"
      ],
      "text/plain": [
       "  start_name relationship                             end_name\n",
       "0    Actrius     director                         Ventura Pons\n",
       "1    Actrius     producer                         Ventura Pons\n",
       "2    Actrius       writer           Josep Maria Benet i Jornet\n",
       "3    Actrius  distributor  Walt Disney Studios Motion Pictures\n",
       "4    Actrius      country                                Spain"
      ]
     },
     "execution_count": 56,
     "metadata": {},
     "output_type": "execute_result"
    }
   ],
   "source": [
    "print(len(df3))\n",
    "df3.head()"
   ]
  },
  {
   "cell_type": "code",
   "execution_count": 36,
   "metadata": {},
   "outputs": [
    {
     "name": "stdout",
     "output_type": "stream",
     "text": [
      "7470\n"
     ]
    },
    {
     "data": {
      "text/html": [
       "<div>\n",
       "<style scoped>\n",
       "    .dataframe tbody tr th:only-of-type {\n",
       "        vertical-align: middle;\n",
       "    }\n",
       "\n",
       "    .dataframe tbody tr th {\n",
       "        vertical-align: top;\n",
       "    }\n",
       "\n",
       "    .dataframe thead th {\n",
       "        text-align: right;\n",
       "    }\n",
       "</style>\n",
       "<table border=\"1\" class=\"dataframe\">\n",
       "  <thead>\n",
       "    <tr style=\"text-align: right;\">\n",
       "      <th></th>\n",
       "      <th>start_name</th>\n",
       "      <th>relationship</th>\n",
       "      <th>end_name</th>\n",
       "    </tr>\n",
       "  </thead>\n",
       "  <tbody>\n",
       "    <tr>\n",
       "      <th>2</th>\n",
       "      <td>BasketballLeague</td>\n",
       "      <td>type</td>\n",
       "      <td>Class</td>\n",
       "    </tr>\n",
       "    <tr>\n",
       "      <th>3</th>\n",
       "      <td>BasketballLeague</td>\n",
       "      <td>subClassOf</td>\n",
       "      <td>SportsLeague</td>\n",
       "    </tr>\n",
       "    <tr>\n",
       "      <th>4</th>\n",
       "      <td>NaturalEvent</td>\n",
       "      <td>type</td>\n",
       "      <td>Class</td>\n",
       "    </tr>\n",
       "    <tr>\n",
       "      <th>5</th>\n",
       "      <td>NaturalEvent</td>\n",
       "      <td>subClassOf</td>\n",
       "      <td>Event</td>\n",
       "    </tr>\n",
       "    <tr>\n",
       "      <th>6</th>\n",
       "      <td>Province</td>\n",
       "      <td>type</td>\n",
       "      <td>Class</td>\n",
       "    </tr>\n",
       "  </tbody>\n",
       "</table>\n",
       "</div>"
      ],
      "text/plain": [
       "         start_name relationship      end_name\n",
       "2  BasketballLeague         type         Class\n",
       "3  BasketballLeague   subClassOf  SportsLeague\n",
       "4      NaturalEvent         type         Class\n",
       "5      NaturalEvent   subClassOf         Event\n",
       "6          Province         type         Class"
      ]
     },
     "execution_count": 36,
     "metadata": {},
     "output_type": "execute_result"
    }
   ],
   "source": [
    "print(len(df5))\n",
    "df5.head()"
   ]
  },
  {
   "cell_type": "code",
   "execution_count": 37,
   "metadata": {},
   "outputs": [
    {
     "name": "stdout",
     "output_type": "stream",
     "text": [
      "5214239\n"
     ]
    },
    {
     "data": {
      "text/html": [
       "<div>\n",
       "<style scoped>\n",
       "    .dataframe tbody tr th:only-of-type {\n",
       "        vertical-align: middle;\n",
       "    }\n",
       "\n",
       "    .dataframe tbody tr th {\n",
       "        vertical-align: top;\n",
       "    }\n",
       "\n",
       "    .dataframe thead th {\n",
       "        text-align: right;\n",
       "    }\n",
       "</style>\n",
       "<table border=\"1\" class=\"dataframe\">\n",
       "  <thead>\n",
       "    <tr style=\"text-align: right;\">\n",
       "      <th></th>\n",
       "      <th>start_name</th>\n",
       "      <th>relationship</th>\n",
       "      <th>end_name</th>\n",
       "    </tr>\n",
       "  </thead>\n",
       "  <tbody>\n",
       "    <tr>\n",
       "      <th>0</th>\n",
       "      <td>Achilles</td>\n",
       "      <td>type</td>\n",
       "      <td>Thing</td>\n",
       "    </tr>\n",
       "    <tr>\n",
       "      <th>1</th>\n",
       "      <td>An American in Paris</td>\n",
       "      <td>type</td>\n",
       "      <td>Thing</td>\n",
       "    </tr>\n",
       "    <tr>\n",
       "      <th>2</th>\n",
       "      <td>Actrius</td>\n",
       "      <td>type</td>\n",
       "      <td>Film</td>\n",
       "    </tr>\n",
       "    <tr>\n",
       "      <th>3</th>\n",
       "      <td>Animalia (book)</td>\n",
       "      <td>type</td>\n",
       "      <td>Book</td>\n",
       "    </tr>\n",
       "    <tr>\n",
       "      <th>4</th>\n",
       "      <td>Agricultural science</td>\n",
       "      <td>type</td>\n",
       "      <td>Thing</td>\n",
       "    </tr>\n",
       "  </tbody>\n",
       "</table>\n",
       "</div>"
      ],
      "text/plain": [
       "             start_name relationship end_name\n",
       "0              Achilles         type    Thing\n",
       "1  An American in Paris         type    Thing\n",
       "2               Actrius         type     Film\n",
       "3       Animalia (book)         type     Book\n",
       "4  Agricultural science         type    Thing"
      ]
     },
     "execution_count": 37,
     "metadata": {},
     "output_type": "execute_result"
    }
   ],
   "source": [
    "print(len(df6))\n",
    "df6.head()"
   ]
  },
  {
   "cell_type": "code",
   "execution_count": 57,
   "metadata": {},
   "outputs": [
    {
     "data": {
      "text/html": [
       "<div>\n",
       "<style scoped>\n",
       "    .dataframe tbody tr th:only-of-type {\n",
       "        vertical-align: middle;\n",
       "    }\n",
       "\n",
       "    .dataframe tbody tr th {\n",
       "        vertical-align: top;\n",
       "    }\n",
       "\n",
       "    .dataframe thead th {\n",
       "        text-align: right;\n",
       "    }\n",
       "</style>\n",
       "<table border=\"1\" class=\"dataframe\">\n",
       "  <thead>\n",
       "    <tr style=\"text-align: right;\">\n",
       "      <th></th>\n",
       "      <th>start_name</th>\n",
       "      <th>relationship</th>\n",
       "      <th>end_name</th>\n",
       "    </tr>\n",
       "  </thead>\n",
       "  <tbody>\n",
       "    <tr>\n",
       "      <th>0</th>\n",
       "      <td>Ibrahim Pasha of Egypt</td>\n",
       "      <td>birthPlace</td>\n",
       "      <td>Drama, Greece</td>\n",
       "    </tr>\n",
       "    <tr>\n",
       "      <th>1</th>\n",
       "      <td>Ibrahim Pasha of Egypt</td>\n",
       "      <td>birthPlace</td>\n",
       "      <td>Ottoman Empire</td>\n",
       "    </tr>\n",
       "    <tr>\n",
       "      <th>2</th>\n",
       "      <td>Ibrahim Pasha of Egypt</td>\n",
       "      <td>deathPlace</td>\n",
       "      <td>Cairo</td>\n",
       "    </tr>\n",
       "    <tr>\n",
       "      <th>3</th>\n",
       "      <td>Ibrahim Pasha of Egypt</td>\n",
       "      <td>deathPlace</td>\n",
       "      <td>Egypt</td>\n",
       "    </tr>\n",
       "    <tr>\n",
       "      <th>4</th>\n",
       "      <td>Abdul Qadeer Khan</td>\n",
       "      <td>birthPlace</td>\n",
       "      <td>Bhopal</td>\n",
       "    </tr>\n",
       "    <tr>\n",
       "      <th>...</th>\n",
       "      <td>...</td>\n",
       "      <td>...</td>\n",
       "      <td>...</td>\n",
       "    </tr>\n",
       "    <tr>\n",
       "      <th>5214234</th>\n",
       "      <td>Miles Byass 5</td>\n",
       "      <td>type</td>\n",
       "      <td>CareerStation</td>\n",
       "    </tr>\n",
       "    <tr>\n",
       "      <th>5214235</th>\n",
       "      <td>Miles Byass 6</td>\n",
       "      <td>type</td>\n",
       "      <td>CareerStation</td>\n",
       "    </tr>\n",
       "    <tr>\n",
       "      <th>5214236</th>\n",
       "      <td>Miles Byass 7</td>\n",
       "      <td>type</td>\n",
       "      <td>CareerStation</td>\n",
       "    </tr>\n",
       "    <tr>\n",
       "      <th>5214237</th>\n",
       "      <td>Miles Byass 8</td>\n",
       "      <td>type</td>\n",
       "      <td>CareerStation</td>\n",
       "    </tr>\n",
       "    <tr>\n",
       "      <th>5214238</th>\n",
       "      <td>Miles Byass 9</td>\n",
       "      <td>type</td>\n",
       "      <td>CareerStation</td>\n",
       "    </tr>\n",
       "  </tbody>\n",
       "</table>\n",
       "<p>24126385 rows × 3 columns</p>\n",
       "</div>"
      ],
      "text/plain": [
       "                     start_name relationship        end_name\n",
       "0        Ibrahim Pasha of Egypt   birthPlace   Drama, Greece\n",
       "1        Ibrahim Pasha of Egypt   birthPlace  Ottoman Empire\n",
       "2        Ibrahim Pasha of Egypt   deathPlace           Cairo\n",
       "3        Ibrahim Pasha of Egypt   deathPlace           Egypt\n",
       "4             Abdul Qadeer Khan   birthPlace          Bhopal\n",
       "...                         ...          ...             ...\n",
       "5214234           Miles Byass 5         type   CareerStation\n",
       "5214235           Miles Byass 6         type   CareerStation\n",
       "5214236           Miles Byass 7         type   CareerStation\n",
       "5214237           Miles Byass 8         type   CareerStation\n",
       "5214238           Miles Byass 9         type   CareerStation\n",
       "\n",
       "[24126385 rows x 3 columns]"
      ]
     },
     "execution_count": 57,
     "metadata": {},
     "output_type": "execute_result"
    }
   ],
   "source": [
    "# combine two relationship dataframe\n",
    "df7 = pd.concat([df2,df3,df5,df6], axis=0)\n",
    "df7"
   ]
  },
  {
   "cell_type": "code",
   "execution_count": 58,
   "metadata": {
    "scrolled": true
   },
   "outputs": [
    {
     "data": {
      "text/html": [
       "<div>\n",
       "<style scoped>\n",
       "    .dataframe tbody tr th:only-of-type {\n",
       "        vertical-align: middle;\n",
       "    }\n",
       "\n",
       "    .dataframe tbody tr th {\n",
       "        vertical-align: top;\n",
       "    }\n",
       "\n",
       "    .dataframe thead th {\n",
       "        text-align: right;\n",
       "    }\n",
       "</style>\n",
       "<table border=\"1\" class=\"dataframe\">\n",
       "  <thead>\n",
       "    <tr style=\"text-align: right;\">\n",
       "      <th></th>\n",
       "      <th>:START_ID</th>\n",
       "      <th>:TYPE</th>\n",
       "      <th>:END_ID</th>\n",
       "    </tr>\n",
       "  </thead>\n",
       "  <tbody>\n",
       "    <tr>\n",
       "      <th>0</th>\n",
       "      <td>Ibrahim Pasha of Egypt</td>\n",
       "      <td>birthPlace</td>\n",
       "      <td>Drama, Greece</td>\n",
       "    </tr>\n",
       "    <tr>\n",
       "      <th>1</th>\n",
       "      <td>Ibrahim Pasha of Egypt</td>\n",
       "      <td>birthPlace</td>\n",
       "      <td>Ottoman Empire</td>\n",
       "    </tr>\n",
       "    <tr>\n",
       "      <th>2</th>\n",
       "      <td>Ibrahim Pasha of Egypt</td>\n",
       "      <td>deathPlace</td>\n",
       "      <td>Cairo</td>\n",
       "    </tr>\n",
       "    <tr>\n",
       "      <th>3</th>\n",
       "      <td>Ibrahim Pasha of Egypt</td>\n",
       "      <td>deathPlace</td>\n",
       "      <td>Egypt</td>\n",
       "    </tr>\n",
       "    <tr>\n",
       "      <th>4</th>\n",
       "      <td>Abdul Qadeer Khan</td>\n",
       "      <td>birthPlace</td>\n",
       "      <td>Bhopal</td>\n",
       "    </tr>\n",
       "    <tr>\n",
       "      <th>...</th>\n",
       "      <td>...</td>\n",
       "      <td>...</td>\n",
       "      <td>...</td>\n",
       "    </tr>\n",
       "    <tr>\n",
       "      <th>5214234</th>\n",
       "      <td>Miles Byass 5</td>\n",
       "      <td>type</td>\n",
       "      <td>CareerStation</td>\n",
       "    </tr>\n",
       "    <tr>\n",
       "      <th>5214235</th>\n",
       "      <td>Miles Byass 6</td>\n",
       "      <td>type</td>\n",
       "      <td>CareerStation</td>\n",
       "    </tr>\n",
       "    <tr>\n",
       "      <th>5214236</th>\n",
       "      <td>Miles Byass 7</td>\n",
       "      <td>type</td>\n",
       "      <td>CareerStation</td>\n",
       "    </tr>\n",
       "    <tr>\n",
       "      <th>5214237</th>\n",
       "      <td>Miles Byass 8</td>\n",
       "      <td>type</td>\n",
       "      <td>CareerStation</td>\n",
       "    </tr>\n",
       "    <tr>\n",
       "      <th>5214238</th>\n",
       "      <td>Miles Byass 9</td>\n",
       "      <td>type</td>\n",
       "      <td>CareerStation</td>\n",
       "    </tr>\n",
       "  </tbody>\n",
       "</table>\n",
       "<p>24126385 rows × 3 columns</p>\n",
       "</div>"
      ],
      "text/plain": [
       "                      :START_ID       :TYPE         :END_ID\n",
       "0        Ibrahim Pasha of Egypt  birthPlace   Drama, Greece\n",
       "1        Ibrahim Pasha of Egypt  birthPlace  Ottoman Empire\n",
       "2        Ibrahim Pasha of Egypt  deathPlace           Cairo\n",
       "3        Ibrahim Pasha of Egypt  deathPlace           Egypt\n",
       "4             Abdul Qadeer Khan  birthPlace          Bhopal\n",
       "...                         ...         ...             ...\n",
       "5214234           Miles Byass 5        type   CareerStation\n",
       "5214235           Miles Byass 6        type   CareerStation\n",
       "5214236           Miles Byass 7        type   CareerStation\n",
       "5214237           Miles Byass 8        type   CareerStation\n",
       "5214238           Miles Byass 9        type   CareerStation\n",
       "\n",
       "[24126385 rows x 3 columns]"
      ]
     },
     "execution_count": 58,
     "metadata": {},
     "output_type": "execute_result"
    }
   ],
   "source": [
    "df7 = df7.rename(columns={'start_name':':START_ID','relationship':':TYPE','end_name':':END_ID'})\n",
    "df7"
   ]
  },
  {
   "cell_type": "code",
   "execution_count": 59,
   "metadata": {},
   "outputs": [
    {
     "name": "stdout",
     "output_type": "stream",
     "text": [
      "24126385\n",
      "24126381\n"
     ]
    }
   ],
   "source": [
    "print(len(df7))\n",
    "df7 = df7.dropna()\n",
    "print(len(df7))"
   ]
  },
  {
   "cell_type": "code",
   "execution_count": 60,
   "metadata": {},
   "outputs": [
    {
     "data": {
      "text/plain": [
       "182257"
      ]
     },
     "execution_count": 60,
     "metadata": {},
     "output_type": "execute_result"
    }
   ],
   "source": [
    "len(find_all_index(df7[':END_ID'], ''))"
   ]
  },
  {
   "cell_type": "code",
   "execution_count": 61,
   "metadata": {},
   "outputs": [],
   "source": [
    "dt999=df7[(df7[':END_ID']!='')]"
   ]
  },
  {
   "cell_type": "code",
   "execution_count": 62,
   "metadata": {},
   "outputs": [
    {
     "data": {
      "text/plain": [
       "[]"
      ]
     },
     "execution_count": 62,
     "metadata": {},
     "output_type": "execute_result"
    }
   ],
   "source": [
    "find_all_index(dt999[':END_ID'], '')"
   ]
  },
  {
   "cell_type": "code",
   "execution_count": 63,
   "metadata": {},
   "outputs": [
    {
     "data": {
      "text/plain": [
       "23944124"
      ]
     },
     "execution_count": 63,
     "metadata": {},
     "output_type": "execute_result"
    }
   ],
   "source": [
    "len(dt999)"
   ]
  },
  {
   "cell_type": "code",
   "execution_count": 64,
   "metadata": {},
   "outputs": [],
   "source": [
    "dt999.to_csv('relationship.csv')"
   ]
  }
 ],
 "metadata": {
  "kernelspec": {
   "display_name": "Python 3",
   "language": "python",
   "name": "python3"
  },
  "language_info": {
   "codemirror_mode": {
    "name": "ipython",
    "version": 3
   },
   "file_extension": ".py",
   "mimetype": "text/x-python",
   "name": "python",
   "nbconvert_exporter": "python",
   "pygments_lexer": "ipython3",
   "version": "3.7.6"
  }
 },
 "nbformat": 4,
 "nbformat_minor": 4
}
