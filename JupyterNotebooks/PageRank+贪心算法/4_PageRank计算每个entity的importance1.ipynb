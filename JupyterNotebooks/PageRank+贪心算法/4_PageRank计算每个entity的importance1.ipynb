{
 "cells": [
  {
   "cell_type": "code",
   "execution_count": 2,
   "metadata": {},
   "outputs": [],
   "source": [
    "import pandas as pd\n",
    "import numpy as np\n",
    "import time"
   ]
  },
  {
   "cell_type": "code",
   "execution_count": 2,
   "metadata": {},
   "outputs": [
    {
     "data": {
      "text/html": [
       "<div>\n",
       "<style scoped>\n",
       "    .dataframe tbody tr th:only-of-type {\n",
       "        vertical-align: middle;\n",
       "    }\n",
       "\n",
       "    .dataframe tbody tr th {\n",
       "        vertical-align: top;\n",
       "    }\n",
       "\n",
       "    .dataframe thead th {\n",
       "        text-align: right;\n",
       "    }\n",
       "</style>\n",
       "<table border=\"1\" class=\"dataframe\">\n",
       "  <thead>\n",
       "    <tr style=\"text-align: right;\">\n",
       "      <th></th>\n",
       "      <th>:START_ID</th>\n",
       "      <th>:TYPE</th>\n",
       "      <th>:END_ID</th>\n",
       "    </tr>\n",
       "  </thead>\n",
       "  <tbody>\n",
       "    <tr>\n",
       "      <th>0</th>\n",
       "      <td>362633</td>\n",
       "      <td>birthPlace</td>\n",
       "      <td>5533231</td>\n",
       "    </tr>\n",
       "    <tr>\n",
       "      <th>1</th>\n",
       "      <td>362633</td>\n",
       "      <td>birthPlace</td>\n",
       "      <td>1056076</td>\n",
       "    </tr>\n",
       "    <tr>\n",
       "      <th>2</th>\n",
       "      <td>362633</td>\n",
       "      <td>deathPlace</td>\n",
       "      <td>5348598</td>\n",
       "    </tr>\n",
       "    <tr>\n",
       "      <th>3</th>\n",
       "      <td>362633</td>\n",
       "      <td>deathPlace</td>\n",
       "      <td>3773633</td>\n",
       "    </tr>\n",
       "    <tr>\n",
       "      <th>4</th>\n",
       "      <td>1324976</td>\n",
       "      <td>birthPlace</td>\n",
       "      <td>3429596</td>\n",
       "    </tr>\n",
       "    <tr>\n",
       "      <th>...</th>\n",
       "      <td>...</td>\n",
       "      <td>...</td>\n",
       "      <td>...</td>\n",
       "    </tr>\n",
       "    <tr>\n",
       "      <th>13188787</th>\n",
       "      <td>4326933</td>\n",
       "      <td>type</td>\n",
       "      <td>1862626</td>\n",
       "    </tr>\n",
       "    <tr>\n",
       "      <th>13188788</th>\n",
       "      <td>193423</td>\n",
       "      <td>type</td>\n",
       "      <td>1862626</td>\n",
       "    </tr>\n",
       "    <tr>\n",
       "      <th>13188789</th>\n",
       "      <td>4635056</td>\n",
       "      <td>type</td>\n",
       "      <td>5175169</td>\n",
       "    </tr>\n",
       "    <tr>\n",
       "      <th>13188790</th>\n",
       "      <td>470273</td>\n",
       "      <td>type</td>\n",
       "      <td>1862626</td>\n",
       "    </tr>\n",
       "    <tr>\n",
       "      <th>13188791</th>\n",
       "      <td>5464191</td>\n",
       "      <td>type</td>\n",
       "      <td>1862626</td>\n",
       "    </tr>\n",
       "  </tbody>\n",
       "</table>\n",
       "<p>13188792 rows × 3 columns</p>\n",
       "</div>"
      ],
      "text/plain": [
       "          :START_ID       :TYPE  :END_ID\n",
       "0            362633  birthPlace  5533231\n",
       "1            362633  birthPlace  1056076\n",
       "2            362633  deathPlace  5348598\n",
       "3            362633  deathPlace  3773633\n",
       "4           1324976  birthPlace  3429596\n",
       "...             ...         ...      ...\n",
       "13188787    4326933        type  1862626\n",
       "13188788     193423        type  1862626\n",
       "13188789    4635056        type  5175169\n",
       "13188790     470273        type  1862626\n",
       "13188791    5464191        type  1862626\n",
       "\n",
       "[13188792 rows x 3 columns]"
      ]
     },
     "execution_count": 2,
     "metadata": {},
     "output_type": "execute_result"
    }
   ],
   "source": [
    "relationship = pd.read_csv('relationship_new.csv',encoding = 'utf-8')\n",
    "relationship = relationship.drop('Unnamed: 0',axis = 1)\n",
    "relationship"
   ]
  },
  {
   "cell_type": "markdown",
   "metadata": {},
   "source": [
    "# Test Demo"
   ]
  },
  {
   "cell_type": "code",
   "execution_count": 3,
   "metadata": {},
   "outputs": [],
   "source": [
    "test_array = [[1,0,1],[1,0,2],[1,1,2],[1,2,0]]"
   ]
  },
  {
   "cell_type": "code",
   "execution_count": 4,
   "metadata": {},
   "outputs": [
    {
     "data": {
      "text/html": [
       "<div>\n",
       "<style scoped>\n",
       "    .dataframe tbody tr th:only-of-type {\n",
       "        vertical-align: middle;\n",
       "    }\n",
       "\n",
       "    .dataframe tbody tr th {\n",
       "        vertical-align: top;\n",
       "    }\n",
       "\n",
       "    .dataframe thead th {\n",
       "        text-align: right;\n",
       "    }\n",
       "</style>\n",
       "<table border=\"1\" class=\"dataframe\">\n",
       "  <thead>\n",
       "    <tr style=\"text-align: right;\">\n",
       "      <th></th>\n",
       "      <th>value</th>\n",
       "      <th>x</th>\n",
       "      <th>y</th>\n",
       "    </tr>\n",
       "  </thead>\n",
       "  <tbody>\n",
       "    <tr>\n",
       "      <th>0</th>\n",
       "      <td>1.0</td>\n",
       "      <td>0.0</td>\n",
       "      <td>1.0</td>\n",
       "    </tr>\n",
       "    <tr>\n",
       "      <th>1</th>\n",
       "      <td>1.0</td>\n",
       "      <td>0.0</td>\n",
       "      <td>2.0</td>\n",
       "    </tr>\n",
       "    <tr>\n",
       "      <th>2</th>\n",
       "      <td>1.0</td>\n",
       "      <td>1.0</td>\n",
       "      <td>2.0</td>\n",
       "    </tr>\n",
       "    <tr>\n",
       "      <th>3</th>\n",
       "      <td>1.0</td>\n",
       "      <td>2.0</td>\n",
       "      <td>0.0</td>\n",
       "    </tr>\n",
       "  </tbody>\n",
       "</table>\n",
       "</div>"
      ],
      "text/plain": [
       "   value    x    y\n",
       "0    1.0  0.0  1.0\n",
       "1    1.0  0.0  2.0\n",
       "2    1.0  1.0  2.0\n",
       "3    1.0  2.0  0.0"
      ]
     },
     "execution_count": 4,
     "metadata": {},
     "output_type": "execute_result"
    }
   ],
   "source": [
    "df = pd.DataFrame(test_array, columns = ['value', 'x', 'y'], dtype = float)\n",
    "df"
   ]
  },
  {
   "cell_type": "code",
   "execution_count": 23,
   "metadata": {},
   "outputs": [
    {
     "data": {
      "text/plain": [
       "2.0    2\n",
       "0.0    1\n",
       "1.0    1\n",
       "Name: y, dtype: int64"
      ]
     },
     "execution_count": 23,
     "metadata": {},
     "output_type": "execute_result"
    }
   ],
   "source": [
    "count = df['y'].value_counts()\n",
    "# 2.0 in count.index\n",
    "# count[0]\n",
    "count"
   ]
  },
  {
   "cell_type": "code",
   "execution_count": 18,
   "metadata": {},
   "outputs": [],
   "source": [
    "list0 = [(1,1),(1,2)]"
   ]
  },
  {
   "cell_type": "code",
   "execution_count": 21,
   "metadata": {},
   "outputs": [
    {
     "data": {
      "text/plain": [
       "2"
      ]
     },
     "execution_count": 21,
     "metadata": {},
     "output_type": "execute_result"
    }
   ],
   "source": [
    "list0[1][1]"
   ]
  },
  {
   "cell_type": "code",
   "execution_count": 5,
   "metadata": {},
   "outputs": [
    {
     "data": {
      "text/plain": [
       "[1.0, 1.0, 2.0]"
      ]
     },
     "execution_count": 5,
     "metadata": {},
     "output_type": "execute_result"
    }
   ],
   "source": [
    "# 计算S\n",
    "N = 3\n",
    "S = list()\n",
    "for i in range(N):\n",
    "    temp_value = 0\n",
    "    for j in range(len(df)):\n",
    "        if df.y[j]==i:\n",
    "            temp_value += df.value[j]\n",
    "    S.append(temp_value)\n",
    "S"
   ]
  },
  {
   "cell_type": "code",
   "execution_count": 9,
   "metadata": {},
   "outputs": [
    {
     "data": {
      "text/html": [
       "<div>\n",
       "<style scoped>\n",
       "    .dataframe tbody tr th:only-of-type {\n",
       "        vertical-align: middle;\n",
       "    }\n",
       "\n",
       "    .dataframe tbody tr th {\n",
       "        vertical-align: top;\n",
       "    }\n",
       "\n",
       "    .dataframe thead th {\n",
       "        text-align: right;\n",
       "    }\n",
       "</style>\n",
       "<table border=\"1\" class=\"dataframe\">\n",
       "  <thead>\n",
       "    <tr style=\"text-align: right;\">\n",
       "      <th></th>\n",
       "      <th>value</th>\n",
       "      <th>x</th>\n",
       "      <th>y</th>\n",
       "    </tr>\n",
       "  </thead>\n",
       "  <tbody>\n",
       "    <tr>\n",
       "      <th>0</th>\n",
       "      <td>1.0</td>\n",
       "      <td>0.0</td>\n",
       "      <td>1.0</td>\n",
       "    </tr>\n",
       "    <tr>\n",
       "      <th>1</th>\n",
       "      <td>0.5</td>\n",
       "      <td>0.0</td>\n",
       "      <td>2.0</td>\n",
       "    </tr>\n",
       "    <tr>\n",
       "      <th>2</th>\n",
       "      <td>0.5</td>\n",
       "      <td>1.0</td>\n",
       "      <td>2.0</td>\n",
       "    </tr>\n",
       "    <tr>\n",
       "      <th>3</th>\n",
       "      <td>1.0</td>\n",
       "      <td>2.0</td>\n",
       "      <td>0.0</td>\n",
       "    </tr>\n",
       "  </tbody>\n",
       "</table>\n",
       "</div>"
      ],
      "text/plain": [
       "   value    x    y\n",
       "0    1.0  0.0  1.0\n",
       "1    0.5  0.0  2.0\n",
       "2    0.5  1.0  2.0\n",
       "3    1.0  2.0  0.0"
      ]
     },
     "execution_count": 9,
     "metadata": {},
     "output_type": "execute_result"
    }
   ],
   "source": [
    "# 变为\"转移概率df\"\n",
    "for i in range(len(S)):\n",
    "    for j in range(len(df)):\n",
    "        if df.y[j] == i:\n",
    "            df.value[j] = 1/S[i]\n",
    "df"
   ]
  },
  {
   "cell_type": "code",
   "execution_count": 12,
   "metadata": {},
   "outputs": [],
   "source": [
    "# page rank function\n",
    "def page_rank_df(df, threshold = 10e-3, beta = 0.8):\n",
    "#     N = 4691099\n",
    "    N = 3\n",
    "    r_old = np.array([0 for i in range(N)])\n",
    "    r_new = np.array([(1/N) for i in range(N)])\n",
    "    while np.sum(np.abs(r_old - r_new)) > threshold:\n",
    "        r_old = r_new\n",
    "        dot_result = []\n",
    "        for i in range(N): #x\n",
    "            temp_result = 0\n",
    "            if i in df.x:\n",
    "                temp_df = df[df.x==i]\n",
    "                for j in range(N): #y\n",
    "                    if j in list(temp_df.y):\n",
    "#                         print('r_new[j]:',r_new[j])\n",
    "#                         print(temp_df[temp_df.x==i][temp_df.y==j].value.iloc[0])\n",
    "                        number = temp_df[temp_df.x==i][temp_df.y==j].value.iloc[0]\n",
    "                        temp_result+=number*r_new[j]\n",
    "            dot_result.append(temp_result)\n",
    "            print('dot_result:', dot_result)\n",
    "        r_new = beta * np.array(dot_result)\n",
    "        print(r_new)\n",
    "        S = np.sum(r_new)\n",
    "        r_new += (1-S)/N\n",
    "    return r_new"
   ]
  },
  {
   "cell_type": "code",
   "execution_count": 13,
   "metadata": {},
   "outputs": [
    {
     "name": "stdout",
     "output_type": "stream",
     "text": [
      "dot_result: [0.5]\n",
      "dot_result: [0.5, 0.16666666666666666]\n",
      "dot_result: [0.5, 0.16666666666666666, 0.3333333333333333]\n",
      "[0.4        0.13333333 0.26666667]\n",
      "dot_result: [0.36666666666666664]\n",
      "dot_result: [0.36666666666666664, 0.16666666666666666]\n",
      "dot_result: [0.36666666666666664, 0.16666666666666666, 0.4666666666666667]\n",
      "[0.29333333 0.13333333 0.37333333]\n",
      "dot_result: [0.42]\n",
      "dot_result: [0.42, 0.22]\n",
      "dot_result: [0.42, 0.22, 0.36]\n",
      "[0.336 0.176 0.288]\n",
      "dot_result: [0.42]\n",
      "dot_result: [0.42, 0.17733333333333332]\n",
      "dot_result: [0.42, 0.17733333333333332, 0.4026666666666667]\n",
      "[0.336      0.14186667 0.32213333]\n",
      "dot_result: [0.40293333333333337]\n",
      "dot_result: [0.40293333333333337, 0.19440000000000002]\n",
      "dot_result: [0.40293333333333337, 0.19440000000000002, 0.4026666666666667]\n",
      "[0.32234667 0.15552    0.32213333]\n",
      "dot_result: [0.41658666666666666]\n",
      "dot_result: [0.41658666666666666, 0.1944]\n",
      "dot_result: [0.41658666666666666, 0.1944, 0.3890133333333333]\n",
      "[0.33326933 0.15552    0.31121067]\n",
      "dot_result: [0.41112533333333334]\n",
      "dot_result: [0.41112533333333334, 0.18893866666666667]\n",
      "dot_result: [0.41112533333333334, 0.18893866666666667, 0.399936]\n",
      "[0.32890027 0.15115093 0.3199488 ]\n",
      "dot_result: [0.41112533333333334]\n",
      "dot_result: [0.41112533333333334, 0.19330773333333334]\n",
      "dot_result: [0.41112533333333334, 0.19330773333333334, 0.39556693333333337]\n",
      "[0.32890027 0.15464619 0.31645355]\n"
     ]
    },
    {
     "data": {
      "text/plain": [
       "array([0.39556693, 0.22131285, 0.38312021])"
      ]
     },
     "execution_count": 13,
     "metadata": {},
     "output_type": "execute_result"
    }
   ],
   "source": [
    "page_rank_df(df)"
   ]
  },
  {
   "cell_type": "code",
   "execution_count": null,
   "metadata": {},
   "outputs": [],
   "source": []
  },
  {
   "cell_type": "markdown",
   "metadata": {},
   "source": [
    "# A smallllllll test"
   ]
  },
  {
   "cell_type": "code",
   "execution_count": 14,
   "metadata": {},
   "outputs": [
    {
     "data": {
      "text/html": [
       "<div>\n",
       "<style scoped>\n",
       "    .dataframe tbody tr th:only-of-type {\n",
       "        vertical-align: middle;\n",
       "    }\n",
       "\n",
       "    .dataframe tbody tr th {\n",
       "        vertical-align: top;\n",
       "    }\n",
       "\n",
       "    .dataframe thead th {\n",
       "        text-align: right;\n",
       "    }\n",
       "</style>\n",
       "<table border=\"1\" class=\"dataframe\">\n",
       "  <thead>\n",
       "    <tr style=\"text-align: right;\">\n",
       "      <th></th>\n",
       "      <th>value</th>\n",
       "      <th>x</th>\n",
       "      <th>y</th>\n",
       "    </tr>\n",
       "  </thead>\n",
       "  <tbody>\n",
       "    <tr>\n",
       "      <th>0</th>\n",
       "      <td>1</td>\n",
       "      <td>362633</td>\n",
       "      <td>5533231</td>\n",
       "    </tr>\n",
       "    <tr>\n",
       "      <th>1</th>\n",
       "      <td>1</td>\n",
       "      <td>362633</td>\n",
       "      <td>1056076</td>\n",
       "    </tr>\n",
       "    <tr>\n",
       "      <th>2</th>\n",
       "      <td>1</td>\n",
       "      <td>362633</td>\n",
       "      <td>5348598</td>\n",
       "    </tr>\n",
       "    <tr>\n",
       "      <th>3</th>\n",
       "      <td>1</td>\n",
       "      <td>362633</td>\n",
       "      <td>3773633</td>\n",
       "    </tr>\n",
       "    <tr>\n",
       "      <th>4</th>\n",
       "      <td>1</td>\n",
       "      <td>1324976</td>\n",
       "      <td>3429596</td>\n",
       "    </tr>\n",
       "    <tr>\n",
       "      <th>...</th>\n",
       "      <td>...</td>\n",
       "      <td>...</td>\n",
       "      <td>...</td>\n",
       "    </tr>\n",
       "    <tr>\n",
       "      <th>13188787</th>\n",
       "      <td>1</td>\n",
       "      <td>4326933</td>\n",
       "      <td>1862626</td>\n",
       "    </tr>\n",
       "    <tr>\n",
       "      <th>13188788</th>\n",
       "      <td>1</td>\n",
       "      <td>193423</td>\n",
       "      <td>1862626</td>\n",
       "    </tr>\n",
       "    <tr>\n",
       "      <th>13188789</th>\n",
       "      <td>1</td>\n",
       "      <td>4635056</td>\n",
       "      <td>5175169</td>\n",
       "    </tr>\n",
       "    <tr>\n",
       "      <th>13188790</th>\n",
       "      <td>1</td>\n",
       "      <td>470273</td>\n",
       "      <td>1862626</td>\n",
       "    </tr>\n",
       "    <tr>\n",
       "      <th>13188791</th>\n",
       "      <td>1</td>\n",
       "      <td>5464191</td>\n",
       "      <td>1862626</td>\n",
       "    </tr>\n",
       "  </tbody>\n",
       "</table>\n",
       "<p>13188792 rows × 3 columns</p>\n",
       "</div>"
      ],
      "text/plain": [
       "          value        x        y\n",
       "0             1   362633  5533231\n",
       "1             1   362633  1056076\n",
       "2             1   362633  5348598\n",
       "3             1   362633  3773633\n",
       "4             1  1324976  3429596\n",
       "...         ...      ...      ...\n",
       "13188787      1  4326933  1862626\n",
       "13188788      1   193423  1862626\n",
       "13188789      1  4635056  5175169\n",
       "13188790      1   470273  1862626\n",
       "13188791      1  5464191  1862626\n",
       "\n",
       "[13188792 rows x 3 columns]"
      ]
     },
     "execution_count": 14,
     "metadata": {},
     "output_type": "execute_result"
    }
   ],
   "source": [
    "relationship = relationship.drop(':TYPE',axis = 1)\n",
    "relationship = relationship.rename(columns={':START_ID':'x',':END_ID':'y'})\n",
    "ones = [1 for i in range(len(relationship))]\n",
    "relationship['value']=ones\n",
    "relationship = relationship[['value','x','y']]\n",
    "relationship"
   ]
  },
  {
   "cell_type": "code",
   "execution_count": null,
   "metadata": {},
   "outputs": [],
   "source": [
    "# test = relationship[:100].astype('float')\n",
    "# N = 4691099\n",
    "# S = list()\n",
    "# start = time.time()\n",
    "\n",
    "# for i in range(N):\n",
    "#     temp_value = 0\n",
    "#     for j in range(len(test)):\n",
    "#         if test.y[j]==i:\n",
    "#             temp_value += test.value[j]\n",
    "#     S.append(temp_value)\n",
    "\n",
    "# for i in range(len(S)):\n",
    "#     for j in range(len(test)):\n",
    "#         if test.y[j] == i:\n",
    "#             test.value[j] = 1/S[i]\n",
    "\n",
    "# page_rank_test(test)\n",
    "\n",
    "# end = time.time()\n",
    "# t = end-start\n",
    "# print('t:',t)"
   ]
  },
  {
   "cell_type": "code",
   "execution_count": null,
   "metadata": {},
   "outputs": [],
   "source": [
    "# # A failed page rank function\n",
    "# def page_rank_df(df, threshold = 10e-3, beta = 0.8):\n",
    "#     N = len(df)\n",
    "#     r_old = np.array([0 for i in range(N)]).reshape((N, 1))\n",
    "#     r_new = np.array([(1/N) for i in range(N)]).reshape((N, 1))\n",
    "#     while np.sum(np.abs(r_old - r_new)) > threshold:\n",
    "#         r_old = r_new\n",
    "#         dot_result = []\n",
    "#         for i in range(N): #x\n",
    "#             temp_result = 0\n",
    "#             temp_df = df[df.x==i]\n",
    "#             if temp_df.empty:\n",
    "#                 dot_result.append(0)\n",
    "#                 continue\n",
    "# #             print(len(temp_df))\n",
    "# #             print(temp_df)\n",
    "#             for j in range(N): #y\n",
    "#                 for k in range(len(temp_df)):\n",
    "#                     if temp_df.y[k]==j:\n",
    "#                         temp_result+=temp_df.value[k]*r_new[j]\n",
    "#             print(temp_result)\n",
    "#             dot_result.append(temp_result)\n",
    "#             print(dot_result)\n",
    "# #         r_new = beta * np.dot(graph_mat, r_old)\n",
    "#         r_new = beta * dot_result\n",
    "#         S = np.sum(r_new)\n",
    "#         r_new += (1-S)/N\n",
    "#     return r_new"
   ]
  }
 ],
 "metadata": {
  "kernelspec": {
   "display_name": "Python 3",
   "language": "python",
   "name": "python3"
  },
  "language_info": {
   "codemirror_mode": {
    "name": "ipython",
    "version": 3
   },
   "file_extension": ".py",
   "mimetype": "text/x-python",
   "name": "python",
   "nbconvert_exporter": "python",
   "pygments_lexer": "ipython3",
   "version": "3.7.6"
  }
 },
 "nbformat": 4,
 "nbformat_minor": 4
}
