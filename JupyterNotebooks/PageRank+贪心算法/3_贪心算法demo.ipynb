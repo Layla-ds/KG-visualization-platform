{
 "cells": [
  {
   "cell_type": "code",
   "execution_count": 1,
   "metadata": {},
   "outputs": [
    {
     "name": "stdout",
     "output_type": "stream",
     "text": [
      "['Tom', 'China', 'DaDa', 'Mark', 'KFC']\n",
      "k: 0\n",
      "values: [0.55, 0.88, 0.85, 0.64, 0.64]\n",
      "max index: 1\n",
      "new name: ['Tom', 'DaDa', 'Mark', 'KFC']\n",
      "new importance: [0.25, 0.75, 0.4, 0.4]\n",
      "new label: ['person', 'person', 'person', 'food']\n",
      "new coverage: [1, 1, 1, 1]\n",
      "selected: ['China']\n",
      "k: 1\n",
      "values: [0.55, 0.85, 0.64, 0.64]\n",
      "max index: 1\n",
      "new name: ['Tom', 'Mark', 'KFC']\n",
      "new importance: [0.25, 0.4, 0.4]\n",
      "new label: ['person', 'person', 'food']\n",
      "new coverage: [0, 0, 1]\n",
      "selected: ['China', 'DaDa']\n",
      "k: 2\n",
      "values: [0.15, 0.24, 0.64]\n",
      "max index: 2\n",
      "new name: ['Tom', 'Mark']\n",
      "new importance: [0.25, 0.4]\n",
      "new label: ['person', 'person']\n",
      "new coverage: [0, 0]\n",
      "selected: ['China', 'DaDa', 'KFC']\n",
      "k: 3\n",
      "values: [0.15, 0.24]\n",
      "max index: 1\n",
      "new name: ['Tom']\n",
      "new importance: [0.25]\n",
      "new label: ['person']\n",
      "new coverage: [0]\n",
      "selected: ['China', 'DaDa', 'KFC', 'Mark']\n"
     ]
    }
   ],
   "source": [
    "import numpy as np\n",
    "entityName_temp= ['Tom', 'China', 'DaDa', 'Mark', 'KFC']\n",
    "importance = [0.25, 0.8, 0.75, 0.4, 0.4]\n",
    "label = ['person', 'place', 'person', 'person', 'food']\n",
    "coverage = [1 for i in range(len(importance))]\n",
    "selected = list()\n",
    "print(entityName_temp)\n",
    "# if number of entities is bigger than limit number of entities\n",
    "if len(importance)>=4:\n",
    "    k = 0\n",
    "    lamb = 0.6\n",
    "    while k<4:\n",
    "        values = list()\n",
    "        # calculate value of all entity and select the biggest one\n",
    "        for i in range(len(importance)):\n",
    "            v = lamb*importance[i]+(1-lamb)*coverage[i]\n",
    "            values.append(v)\n",
    "        max_index = values.index(max(values))\n",
    "        # add selected entity into list 'selected'\n",
    "        selected.append(entityName_temp[max_index])\n",
    "        # store label name as a variable\n",
    "        label_name = label[max_index]\n",
    "        # delete selected entity from four lists\n",
    "        del entityName_temp[max_index]\n",
    "        del importance[max_index]\n",
    "        del label[max_index]\n",
    "        del coverage[max_index]\n",
    "        # change coverage of entity with selected label to 0\n",
    "        for i in range(len(coverage)):\n",
    "            if label[i]==label_name:\n",
    "                coverage[i] = 0\n",
    "        print('k:', k)\n",
    "        print('values:', values)\n",
    "        print('max index:', max_index)\n",
    "        print('new name:', entityName_temp)\n",
    "        print('new importance:', importance)\n",
    "        print('new label:', label)\n",
    "        print('new coverage:',coverage)\n",
    "        print('selected:', selected)\n",
    "        k += 1\n",
    "else:\n",
    "    selected = entity_temp"
   ]
  },
  {
   "cell_type": "code",
   "execution_count": null,
   "metadata": {},
   "outputs": [],
   "source": []
  }
 ],
 "metadata": {
  "kernelspec": {
   "display_name": "Python 3",
   "language": "python",
   "name": "python3"
  },
  "language_info": {
   "codemirror_mode": {
    "name": "ipython",
    "version": 3
   },
   "file_extension": ".py",
   "mimetype": "text/x-python",
   "name": "python",
   "nbconvert_exporter": "python",
   "pygments_lexer": "ipython3",
   "version": "3.7.6"
  }
 },
 "nbformat": 4,
 "nbformat_minor": 4
}
