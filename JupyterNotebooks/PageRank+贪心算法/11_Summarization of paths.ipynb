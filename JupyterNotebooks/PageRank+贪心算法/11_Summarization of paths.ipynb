{
 "cells": [
  {
   "cell_type": "code",
   "execution_count": 1,
   "metadata": {},
   "outputs": [],
   "source": [
    "from py2neo import Graph\n",
    "graph = Graph(\"http://localhost:7474\", auth=(\"neo4j\", \"990910lhylhy\"))"
   ]
  },
  {
   "cell_type": "code",
   "execution_count": 2,
   "metadata": {},
   "outputs": [],
   "source": [
    "kword1 = 'Lay (entertainer)'\n",
    "kword2 = 'Exo (band)'"
   ]
  },
  {
   "cell_type": "code",
   "execution_count": 3,
   "metadata": {},
   "outputs": [],
   "source": [
    "c1 = 'MATCH p=(n1{entityName:\\''+kword1+'\\'})-[*1..3]->(n2{entityName:\\''+kword2+'\\'}) return p'\n",
    "s1 = graph.run(c1).data()"
   ]
  },
  {
   "cell_type": "code",
   "execution_count": 4,
   "metadata": {},
   "outputs": [],
   "source": [
    "nodes = []\n",
    "edges = []\n",
    "for i in range(len(s1)):\n",
    "    nodes = nodes + list(s1[i]['p'].nodes)\n",
    "    edges = edges + list(s1[i]['p'].relationships)\n",
    "elements = {\"nodes\": nodes, \"edges\": edges}"
   ]
  },
  {
   "cell_type": "code",
   "execution_count": 5,
   "metadata": {},
   "outputs": [],
   "source": [
    "if len(s1)>10:\n",
    "    temp_list = []\n",
    "    for i in range(len(s1)):\n",
    "        count = 0\n",
    "        for j in range(len(s1[i]['p'].nodes)):\n",
    "            count += float(s1[i]['p'].nodes[j]['entityImportance'])\n",
    "        temp_list.append(count)"
   ]
  },
  {
   "cell_type": "code",
   "execution_count": 6,
   "metadata": {},
   "outputs": [],
   "source": [
    "filtered = []\n",
    "for i in range(10):\n",
    "#     for i in temp_list:\n",
    "    filtered.append(temp_list.index(max(temp_list)))\n",
    "    del temp_list[i]"
   ]
  },
  {
   "cell_type": "code",
   "execution_count": 7,
   "metadata": {},
   "outputs": [],
   "source": [
    "nodes = []\n",
    "edges = []\n",
    "for i in range(len(s1)):\n",
    "    if i in filtered:\n",
    "        nodes = nodes + list(s1[i]['p'].nodes)\n",
    "        edges = edges + list(s1[i]['p'].relationships)"
   ]
  },
  {
   "cell_type": "code",
   "execution_count": 128,
   "metadata": {},
   "outputs": [
    {
     "name": "stdout",
     "output_type": "stream",
     "text": [
      "2\n",
      "sum_value1: [1.9578809694415518, 1.9578809694415518]\n",
      "importance: [1.4578809694415519e-06, 1.4578809694415519e-06]\n",
      "diverisity: [0.5, 0.5]\n",
      "sum_value2: [0, 0]\n",
      "(_1465422)-[:bandMember {inverse: 'directed'}]->(_1625759)\n",
      "(_1465422)-[:associatedAct {inverse: 'direct'}]->(_1625759)\n"
     ]
    }
   ],
   "source": [
    "from collections import Counter\n",
    "import numpy as np\n",
    "import heapq\n",
    "# c1 = 'MATCH p=(n1{entityName:\\'' + kword1 + '\\'})-[*0..2]->(n2{entityName:\\'' + kword2 + '\\'}) return p'\n",
    "c1 = 'MATCH p=allShortestPaths((n1{entityName:\\''+kword1+'\\'})-[*]->(n2{entityName:\\''+kword2+'\\'})) return p'\n",
    "### time start\n",
    "s1 = graph.run(c1).data()\n",
    "print(len(s1))\n",
    "importance = []\n",
    "relationship_types = []\n",
    "diversity = []\n",
    "if len(s1) > 20:\n",
    "    # importance\n",
    "    for i in range(len(s1)):\n",
    "        count = 0\n",
    "        for j in range(len(s1[i]['p'].nodes)):\n",
    "            count += float(s1[i]['p'].nodes[j]['entityImportance'])\n",
    "        importance.append(count)\n",
    "        for j in range(len(list(s1[i]['p'].relationships))):\n",
    "            relationship_types.append(list(s1[i]['p'].relationships[j].types())[0])\n",
    "    # diversity\n",
    "    type_dict = dict(Counter(relationship_types))\n",
    "    for i in range(len(type_dict)):\n",
    "        type_dict[list(type_dict.keys())[i]] = 1-(list(type_dict.values())[i]/len(s1))\n",
    "    for i in range(len(s1)):\n",
    "        count_diversity = 0\n",
    "        for j in range(len(list(s1[i]['p'].relationships))):\n",
    "            count_diversity += type_dict[list(s1[i]['p'].relationships[j].types())[0]]\n",
    "        diversity.append(count_diversity)\n",
    "    # integral\n",
    "    filtered = []\n",
    "    sum_value = list(1000000*np.array(importance)+np.array(diversity))\n",
    "    print('sum_value1:', sum_value)\n",
    "    max_number = heapq.nlargest(2, sum_value)\n",
    "    for t in max_number:\n",
    "        index = sum_value.index(t)\n",
    "        filtered.append(index)\n",
    "        sum_value[index] = 0\n",
    "    print('importance:', importance)\n",
    "    print('diverisity:', diversity)\n",
    "    print('sum_value2:', sum_value)\n",
    "else:\n",
    "    filtered = [i for i in range(len(s1))]\n",
    "nodes = []\n",
    "edges = []\n",
    "for i in range(len(s1)):\n",
    "    if i in filtered:\n",
    "        print(s1[i]['p'])\n",
    "        nodes = nodes + list(s1[i]['p'].nodes)\n",
    "        edges = edges + list(s1[i]['p'].relationships)"
   ]
  },
  {
   "cell_type": "code",
   "execution_count": null,
   "metadata": {},
   "outputs": [],
   "source": [
    "def get_node_edges_2_new_new(kword):\n",
    "    kword = kword.replace(', ', ',')\n",
    "    kword1 = kword.split(',')[0]\n",
    "    kword2 = kword.split(',')[1]\n",
    "    print(kword1,',',kword2)\n",
    "    c1 = 'MATCH p=allShortestPaths((n1{entityName:\\'' + kword1 + '\\'})-[*]->(n2{entityName:\\'' + kword2 + '\\'})) return p'\n",
    "    ### time start\n",
    "    start = time.time()\n",
    "    s1 = graph.run(c1).data()\n",
    "    print(len(s1))\n",
    "    importance = []\n",
    "    relationship_types = []\n",
    "    diversity = []\n",
    "    if len(s1) > 10:\n",
    "        # importance\n",
    "        for i in range(len(s1)):\n",
    "            count = 0\n",
    "            for j in range(len(s1[i]['p'].nodes)):\n",
    "                count += float(s1[i]['p'].nodes[j]['entityImportance'])\n",
    "            importance.append(count)\n",
    "            for j in range(len(list(s1[i]['p'].relationships))):\n",
    "                relationship_types.append(list(s1[i]['p'].relationships[j].types())[0])\n",
    "        # diversity\n",
    "        type_dict = dict(Counter(relationship_types))\n",
    "        for i in range(len(type_dict)):\n",
    "            type_dict[list(type_dict.keys())[i]] = 1 - (list(type_dict.values())[i] / len(s1))\n",
    "        for i in range(len(s1)):\n",
    "            count_diversity = 0\n",
    "            for j in range(len(list(s1[i]['p'].relationships))):\n",
    "                count_diversity += type_dict[list(s1[i]['p'].relationships[j].types())[0]]\n",
    "            diversity.append(count_diversity)\n",
    "        # integral\n",
    "        filtered = []\n",
    "        sum_value = list(1000000 * np.array(importance) + np.array(diversity))\n",
    "        print('sum_value1:', sum_value)\n",
    "        max_number = heapq.nlargest(10, sum_value)\n",
    "        for t in max_number:\n",
    "            index = sum_value.index(t)\n",
    "            filtered.append(index)\n",
    "            sum_value[index] = 0\n",
    "        print('importance:', importance)\n",
    "        print('diverisity:', diversity)\n",
    "        print('sum_value2:', sum_value)\n",
    "    else:\n",
    "        filtered = [i for i in range(len(s1))]\n",
    "    nodes = []\n",
    "    edges = []\n",
    "    for i in range(len(s1)):\n",
    "        if i in filtered:\n",
    "            print(s1[i]['p'])\n",
    "            nodes = nodes + list(map(buildNodes2, s1[i]['p'].nodes))\n",
    "            edges = edges + list(map(buildEdges2, s1[i]['p'].relationships))\n",
    "    elements = {\"nodes\": nodes, \"edges\": edges}\n",
    "    print(elements)\n",
    "    ### time end\n",
    "    mid = time.time()\n",
    "    print(mid - start)\n",
    "    return elements"
   ]
  }
 ],
 "metadata": {
  "kernelspec": {
   "display_name": "Python 3",
   "language": "python",
   "name": "python3"
  },
  "language_info": {
   "codemirror_mode": {
    "name": "ipython",
    "version": 3
   },
   "file_extension": ".py",
   "mimetype": "text/x-python",
   "name": "python",
   "nbconvert_exporter": "python",
   "pygments_lexer": "ipython3",
   "version": "3.7.6"
  }
 },
 "nbformat": 4,
 "nbformat_minor": 4
}
