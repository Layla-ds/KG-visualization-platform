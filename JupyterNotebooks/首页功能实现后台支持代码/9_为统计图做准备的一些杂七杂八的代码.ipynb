{
 "cells": [
  {
   "cell_type": "code",
   "execution_count": 12,
   "metadata": {},
   "outputs": [],
   "source": [
    "import numpy as np"
   ]
  },
  {
   "cell_type": "code",
   "execution_count": 1,
   "metadata": {},
   "outputs": [],
   "source": [
    "from py2neo import Graph\n",
    "graph = Graph(\"http://localhost:7474\", auth=(\"neo4j\", \"990910lhylhy\"))"
   ]
  },
  {
   "cell_type": "code",
   "execution_count": 16,
   "metadata": {},
   "outputs": [],
   "source": [
    "kword = 'Exo (band)'\n",
    "c1 = 'MATCH (a)-[r]->(n) WHERE a.entityName=\\'' + kword + '\\' RETURN a,n,r,labels(n),n.entityImportance,type(r)'\n",
    "s1 = graph.run(c1).data()# one hop"
   ]
  },
  {
   "cell_type": "code",
   "execution_count": 20,
   "metadata": {},
   "outputs": [
    {
     "name": "stdout",
     "output_type": "stream",
     "text": [
      "['Place', 'Place', 'Thing', 'Thing', 'Person', 'Person', 'Person', 'Person', 'Person', 'Person', 'Person', 'Person', 'Person', 'Person', 'Person', 'Person', 'Person', 'Person', 'Person', 'Person', 'Person', 'Organisation', 'Person', 'Person', 'Organisation', 'Person', 'Organisation', 'Person', 'Person', 'Person', 'Person', 'Person', 'Organisation', 'Person', 'Person', 'Organisation', 'Person', 'Organisation', 'Work', 'Work', 'Work', 'Work', 'Work', 'Work', 'Work', 'Work', 'Work', 'Work', 'Work', 'Work', 'Work', 'Place', 'Person', 'Person', 'Person', 'Person']\n",
      "['hometown', 'hometown', 'genre', 'genre', 'bandMember', 'bandMember', 'bandMember', 'bandMember', 'bandMember', 'bandMember', 'bandMember', 'bandMember', 'bandMember', 'bandMember', 'bandMember', 'bandMember', 'associatedBand', 'associatedBand', 'associatedBand', 'associatedBand', 'associatedBand', 'associatedBand', 'associatedBand', 'associatedBand', 'associatedBand', 'associatedBand', 'associatedBand', 'associatedMusicalArtist', 'associatedMusicalArtist', 'associatedMusicalArtist', 'associatedMusicalArtist', 'associatedMusicalArtist', 'associatedMusicalArtist', 'associatedMusicalArtist', 'associatedMusicalArtist', 'associatedMusicalArtist', 'associatedMusicalArtist', 'associatedMusicalArtist', 'starring', 'starring', 'starring', 'starring', 'artist', 'artist', 'artist', 'artist', 'artist', 'artist', 'openingTheme', 'musicalArtist', 'musicalBand', 'type', 'associatedAct', 'associatedAct', 'associatedAct', 'associatedAct']\n"
     ]
    }
   ],
   "source": [
    "label = []\n",
    "typeR = []\n",
    "for i in range(len(s1)):\n",
    "    label.append(s1[i]['labels(n)'][0])\n",
    "    typeR.append(s1[i]['type(r)'])\n",
    "print(label)\n",
    "print(typeR)"
   ]
  },
  {
   "cell_type": "code",
   "execution_count": 14,
   "metadata": {},
   "outputs": [
    {
     "data": {
      "text/plain": [
       "Counter({'Place': 3, 'Thing': 2, 'Person': 32, 'Organisation': 6, 'Work': 13})"
      ]
     },
     "execution_count": 14,
     "metadata": {},
     "output_type": "execute_result"
    }
   ],
   "source": [
    "from collections import Counter\n",
    "Counter(label)"
   ]
  },
  {
   "cell_type": "code",
   "execution_count": 21,
   "metadata": {},
   "outputs": [
    {
     "data": {
      "text/plain": [
       "Counter({'hometown': 2,\n",
       "         'genre': 2,\n",
       "         'bandMember': 12,\n",
       "         'associatedBand': 11,\n",
       "         'associatedMusicalArtist': 11,\n",
       "         'starring': 4,\n",
       "         'artist': 6,\n",
       "         'openingTheme': 1,\n",
       "         'musicalArtist': 1,\n",
       "         'musicalBand': 1,\n",
       "         'type': 1,\n",
       "         'associatedAct': 4})"
      ]
     },
     "execution_count": 21,
     "metadata": {},
     "output_type": "execute_result"
    }
   ],
   "source": [
    "Counter(typeR)"
   ]
  },
  {
   "cell_type": "code",
   "execution_count": 44,
   "metadata": {},
   "outputs": [
    {
     "name": "stdout",
     "output_type": "stream",
     "text": [
      "['Place', 'Thing', 'Person', 'Organisation', 'Work']\n",
      "[3, 2, 32, 6, 13]\n"
     ]
    }
   ],
   "source": [
    "lab = list(dict(Counter(label)).keys())\n",
    "countlab = list(dict(Counter(label)).values())\n",
    "print(lab)\n",
    "print(countlab)"
   ]
  },
  {
   "cell_type": "code",
   "execution_count": 37,
   "metadata": {},
   "outputs": [],
   "source": [
    "typ = list(dict(Counter(typeR)).keys())\n",
    "counttyp = list(dict(Counter(typeR)).values())"
   ]
  },
  {
   "cell_type": "code",
   "execution_count": 42,
   "metadata": {},
   "outputs": [
    {
     "data": {
      "text/plain": [
       "Counter({'Place': 3, 'Thing': 2, 'Person': 32, 'Organisation': 6, 'Work': 13})"
      ]
     },
     "execution_count": 42,
     "metadata": {},
     "output_type": "execute_result"
    }
   ],
   "source": [
    "dictCounter(label)"
   ]
  },
  {
   "cell_type": "code",
   "execution_count": 48,
   "metadata": {},
   "outputs": [],
   "source": [
    "lab = list(dict(Counter(label)).keys())\n",
    "countlab = list(dict(Counter(label)).values())\n",
    "data = []\n",
    "for i in range(len(lab)):\n",
    "    temp = dict()\n",
    "    temp['y']=countlab[i]\n",
    "    temp['label']=lab[i]\n",
    "    data.append(temp)"
   ]
  },
  {
   "cell_type": "code",
   "execution_count": 49,
   "metadata": {},
   "outputs": [
    {
     "data": {
      "text/plain": [
       "[{'y': 3, 'label': 'Place'},\n",
       " {'y': 2, 'label': 'Thing'},\n",
       " {'y': 32, 'label': 'Person'},\n",
       " {'y': 6, 'label': 'Organisation'},\n",
       " {'y': 13, 'label': 'Work'}]"
      ]
     },
     "execution_count": 49,
     "metadata": {},
     "output_type": "execute_result"
    }
   ],
   "source": [
    "data"
   ]
  }
 ],
 "metadata": {
  "kernelspec": {
   "display_name": "Python 3",
   "language": "python",
   "name": "python3"
  },
  "language_info": {
   "codemirror_mode": {
    "name": "ipython",
    "version": 3
   },
   "file_extension": ".py",
   "mimetype": "text/x-python",
   "name": "python",
   "nbconvert_exporter": "python",
   "pygments_lexer": "ipython3",
   "version": "3.7.6"
  }
 },
 "nbformat": 4,
 "nbformat_minor": 4
}
