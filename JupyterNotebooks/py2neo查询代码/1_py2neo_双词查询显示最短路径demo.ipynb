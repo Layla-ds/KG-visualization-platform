{
 "cells": [
  {
   "cell_type": "code",
   "execution_count": 1,
   "metadata": {},
   "outputs": [],
   "source": [
    "import time\n",
    "from py2neo import Graph\n",
    "graph = Graph(\"http://localhost:7474\", auth=(\"neo4j\", \"990910lhylhy\"))"
   ]
  },
  {
   "cell_type": "code",
   "execution_count": 3,
   "metadata": {},
   "outputs": [],
   "source": [
    "def get_graph(entity):   #search page return\n",
    "    kword = entity\n",
    "    if kword.count(',')==1:\n",
    "        nodes = list()\n",
    "        edges = list()\n",
    "        element = get_node_edges_3(kword)\n",
    "    else:\n",
    "        split_keys = kword.split(',')\n",
    "        nodes = list()\n",
    "        edges = list()\n",
    "        for key in split_keys:\n",
    "            element = get_node_edges_2(key)\n",
    "    elements = {\"elements\": element}\n",
    "    return elements"
   ]
  },
  {
   "cell_type": "code",
   "execution_count": 4,
   "metadata": {},
   "outputs": [],
   "source": [
    "def get_node_edges_3(kword):\n",
    "    kword1 = kword.split(',')[0]\n",
    "    kword2 = kword.split(',')[1]\n",
    "    c1 = 'MATCH p=shortestPath((n1{entityName:\\''+kword1+'\\'})-[*]-(n2{entityName:\\''+kword2+'\\'})) return p'\n",
    "    start = time.time()\n",
    "    ### time start\n",
    "    s1 = graph.run(c1).data()\n",
    "    print(s1)\n",
    "    print(s1[0]['p'].nodes)\n",
    "    nodes = list(map(buildNodes2, s1[0]['p'].nodes))\n",
    "    edges = list(map(buildEdges2, s1[0]['p'].relationships))\n",
    "    elements = {\"nodes\": nodes, \"edges\": edges}\n",
    "    ### time end\n",
    "    mid = time.time()\n",
    "    print(mid - start) ### print time\n",
    "    return elements"
   ]
  },
  {
   "cell_type": "code",
   "execution_count": 5,
   "metadata": {},
   "outputs": [],
   "source": [
    "def buildNodes2(nodeRecord):\n",
    "    data = {\"id\": nodeRecord.identity, \"label\": list(nodeRecord.labels)[0],\n",
    "            \"name\": nodeRecord['entityName'], \"entityId\": nodeRecord['entityId'],\n",
    "            \"entityProperty\": nodeRecord['entityProperty']}\n",
    "    return {\"data\": data}\n",
    "\n",
    "\n",
    "def buildEdges2(relationRecord):\n",
    "#     for j in relationRecord:\n",
    "    data = {\"id\": relationRecord.identity,\n",
    "            \"source\": relationRecord.start_node.identity,\n",
    "            \"target\": relationRecord.end_node.identity,\n",
    "            \"relationship\": list(relationRecord.types())[0],\n",
    "            \"direction\":relationRecord['inverse']}\n",
    "    return {\"data\": data}"
   ]
  },
  {
   "cell_type": "code",
   "execution_count": 7,
   "metadata": {},
   "outputs": [
    {
     "name": "stdout",
     "output_type": "stream",
     "text": [
      "[{'p': (_2681734)<-[:country {inverse: 'directed'}]-(_642120)-[:country {inverse: 'directed'}]->(_1655391)}]\n",
      "((_2681734:Organisation {entityId: 3277675, entityName: 'Wuhan University', entityProperty: 'name: Wuhan University,  name: Wu Yi Da Xue ,  motto: Zi Qiang  Hong Yi  Qiu Shi  Tuo Xin ,  motto: Improve Oneself,   Promote Perseverance,   Seek Truth and Make Innovations,  foundingDate: 1893-11-29,  facultySize: 5000,  numberOfStudents: 53000', entityType: 'University'}), (_642120:Place {entityId: 802462, entityName: 'China', entityProperty: 'longName: Peoples Republic of China,  name: the Peoples Republic of China,  demonym: Chinese,  leaderTitle: President,  leaderTitle: Premier,  leaderTitle: Congress Chairman,  leaderTitle: Conference Chairman,  leaderTitle: First-ranked Secretary of theSecretariat,  foundingDate: 1912-01-01,  areaTotal: 9.596961E12,  areaTotal: 9.596960073955787E12,  percentageOfAreaWater: 2.8,  flag: Flag of the People%27s Republic of China.svg,  populationTotal: 1376049000,  populationDensity: 2013.0,  populationDensity: 144.01610513633233', entityType: 'Country'}), (_1655391:Place {entityId: 2042392, entityName: 'Tianmen', entityProperty: 'areaTotal: 2.622E9,  elevation: 32.0,  elevation: 31.6992,  populationTotal: 1731482,  utcOffset: +8', entityType: 'City'}))\n",
      "16.669965028762817\n"
     ]
    },
    {
     "data": {
      "text/plain": [
       "{'elements': {'nodes': [{'data': {'id': 2681734,\n",
       "     'label': 'Organisation',\n",
       "     'name': 'Wuhan University',\n",
       "     'entityId': 3277675,\n",
       "     'entityProperty': 'name: Wuhan University,  name: Wu Yi Da Xue ,  motto: Zi Qiang  Hong Yi  Qiu Shi  Tuo Xin ,  motto: Improve Oneself,   Promote Perseverance,   Seek Truth and Make Innovations,  foundingDate: 1893-11-29,  facultySize: 5000,  numberOfStudents: 53000'}},\n",
       "   {'data': {'id': 642120,\n",
       "     'label': 'Place',\n",
       "     'name': 'China',\n",
       "     'entityId': 802462,\n",
       "     'entityProperty': 'longName: Peoples Republic of China,  name: the Peoples Republic of China,  demonym: Chinese,  leaderTitle: President,  leaderTitle: Premier,  leaderTitle: Congress Chairman,  leaderTitle: Conference Chairman,  leaderTitle: First-ranked Secretary of theSecretariat,  foundingDate: 1912-01-01,  areaTotal: 9.596961E12,  areaTotal: 9.596960073955787E12,  percentageOfAreaWater: 2.8,  flag: Flag of the People%27s Republic of China.svg,  populationTotal: 1376049000,  populationDensity: 2013.0,  populationDensity: 144.01610513633233'}},\n",
       "   {'data': {'id': 1655391,\n",
       "     'label': 'Place',\n",
       "     'name': 'Tianmen',\n",
       "     'entityId': 2042392,\n",
       "     'entityProperty': 'areaTotal: 2.622E9,  elevation: 32.0,  elevation: 31.6992,  populationTotal: 1731482,  utcOffset: +8'}}],\n",
       "  'edges': [{'data': {'id': 14335456,\n",
       "     'source': 642120,\n",
       "     'target': 2681734,\n",
       "     'relationship': 'country',\n",
       "     'direction': 'directed'}},\n",
       "   {'data': {'id': 15917328,\n",
       "     'source': 642120,\n",
       "     'target': 1655391,\n",
       "     'relationship': 'country',\n",
       "     'direction': 'directed'}}]}}"
      ]
     },
     "execution_count": 7,
     "metadata": {},
     "output_type": "execute_result"
    }
   ],
   "source": [
    "get_graph('Hoshiar Kadinefendi,Radul of Ridani')"
   ]
  }
 ],
 "metadata": {
  "kernelspec": {
   "display_name": "Python 3",
   "language": "python",
   "name": "python3"
  },
  "language_info": {
   "codemirror_mode": {
    "name": "ipython",
    "version": 3
   },
   "file_extension": ".py",
   "mimetype": "text/x-python",
   "name": "python",
   "nbconvert_exporter": "python",
   "pygments_lexer": "ipython3",
   "version": "3.7.6"
  }
 },
 "nbformat": 4,
 "nbformat_minor": 4
}
