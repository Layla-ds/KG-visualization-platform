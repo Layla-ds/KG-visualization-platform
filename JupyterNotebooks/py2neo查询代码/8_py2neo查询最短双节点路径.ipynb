{
 "cells": [
  {
   "cell_type": "code",
   "execution_count": 2,
   "metadata": {},
   "outputs": [],
   "source": [
    "from py2neo import Graph\n",
    "graph = Graph(\"http://localhost:7474\", auth=(\"neo4j\", \"990910lhylhy\"))"
   ]
  },
  {
   "cell_type": "code",
   "execution_count": 5,
   "metadata": {},
   "outputs": [],
   "source": [
    "kword1='China'\n",
    "kword2='Exo (band)'\n",
    "c1 = 'MATCH p=allShortestPaths((n1{entityName:\\''+kword1+'\\'})-[*]->(n2{entityName:\\''+kword2+'\\'})) return p'\n",
    "s1 = graph.run(c1).data()"
   ]
  },
  {
   "cell_type": "code",
   "execution_count": 9,
   "metadata": {},
   "outputs": [
    {
     "data": {
      "text/plain": [
       "[{'p': (_706689)-[:birthPlace {inverse: 'directed'}]->(_3507857)-[:bandMember {inverse: 'directed'}]->(_1581262)},\n",
       " {'p': (_706689)-[:birthPlace {inverse: 'directed'}]->(_3507857)-[:associatedAct {inverse: 'direct'}]->(_1581262)},\n",
       " {'p': (_706689)-[:country {inverse: 'directed'}]->(_3507857)-[:bandMember {inverse: 'directed'}]->(_1581262)},\n",
       " {'p': (_706689)-[:country {inverse: 'directed'}]->(_3507857)-[:associatedAct {inverse: 'direct'}]->(_1581262)},\n",
       " {'p': (_706689)-[:country {inverse: 'directed'}]->(_1725153)-[:bandMember {inverse: 'directed'}]->(_1581262)},\n",
       " {'p': (_706689)-[:country {inverse: 'directed'}]->(_1725153)-[:associatedAct {inverse: 'direct'}]->(_1581262)},\n",
       " {'p': (_706689)-[:country {inverse: 'directed'}]->(_1480685)-[:bandMember {inverse: 'directed'}]->(_1581262)},\n",
       " {'p': (_706689)-[:country {inverse: 'directed'}]->(_1480685)-[:associatedAct {inverse: 'direct'}]->(_1581262)},\n",
       " {'p': (_706689)-[:birthPlace {inverse: 'directed'}]->(_2420619)-[:bandMember {inverse: 'directed'}]->(_1581262)},\n",
       " {'p': (_706689)-[:birthPlace {inverse: 'directed'}]->(_2420619)-[:associatedAct {inverse: 'direct'}]->(_1581262)},\n",
       " {'p': (_706689)-[:country {inverse: 'directed'}]->(_2420619)-[:bandMember {inverse: 'directed'}]->(_1581262)},\n",
       " {'p': (_706689)-[:country {inverse: 'directed'}]->(_2420619)-[:associatedAct {inverse: 'direct'}]->(_1581262)}]"
      ]
     },
     "execution_count": 9,
     "metadata": {},
     "output_type": "execute_result"
    }
   ],
   "source": [
    "s1"
   ]
  },
  {
   "cell_type": "code",
   "execution_count": null,
   "metadata": {},
   "outputs": [],
   "source": [
    "关系类型数量越多，重要性更低，"
   ]
  },
  {
   "cell_type": "code",
   "execution_count": null,
   "metadata": {},
   "outputs": [],
   "source": [
    "    nodes = []\n",
    "    edges = []\n",
    "    for i in range(len(s1)):\n",
    "        nodes = nodes + list(map(buildNodes2, s1[i]['p'].nodes))\n",
    "        edges = edges + list(map(buildEdges2, s1[i]['p'].relationships))\n",
    "    elements = {\"nodes\": nodes, \"edges\": edges}"
   ]
  }
 ],
 "metadata": {
  "kernelspec": {
   "display_name": "Python 3",
   "language": "python",
   "name": "python3"
  },
  "language_info": {
   "codemirror_mode": {
    "name": "ipython",
    "version": 3
   },
   "file_extension": ".py",
   "mimetype": "text/x-python",
   "name": "python",
   "nbconvert_exporter": "python",
   "pygments_lexer": "ipython3",
   "version": "3.7.6"
  }
 },
 "nbformat": 4,
 "nbformat_minor": 4
}
